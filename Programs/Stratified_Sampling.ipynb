{
 "cells": [
  {
   "cell_type": "code",
   "execution_count": 1,
   "metadata": {},
   "outputs": [],
   "source": [
    "import numpy as np\n",
    "import sys, os, shutil\n",
    "import pandas as pd\n",
    "import collections as cl\n",
    "import itertools as it\n",
    "import timeit\n",
    "import pandas as pd\n",
    "import datetime as dt\n",
    "import matplotlib.pyplot as plt\n",
    "import matplotlib\n",
    "import seaborn as sns\n",
    "import copy as cp\n",
    "import pyprojroot as pr\n",
    "import scipy.stats as scs\n",
    "from sklearn.model_selection import StratifiedShuffleSplit"
   ]
  },
  {
   "cell_type": "code",
   "execution_count": 2,
   "metadata": {},
   "outputs": [
    {
     "data": {
      "text/plain": [
       "'c:\\\\Users\\\\yche465\\\\Desktop\\\\AIM 1\\\\Codes\\\\PrEP-Traj-Clustering\\\\Data'"
      ]
     },
     "execution_count": 2,
     "metadata": {},
     "output_type": "execute_result"
    }
   ],
   "source": [
    "#Change directory\n",
    "os.chdir(pr.here(\"./Data\"))\n",
    "os.getcwd()"
   ]
  },
  {
   "cell_type": "markdown",
   "metadata": {},
   "source": [
    "### Create categorical variables used for stratified sampling"
   ]
  },
  {
   "cell_type": "code",
   "execution_count": 3,
   "metadata": {},
   "outputs": [],
   "source": [
    "#Import appended person-level covariates\n",
    "PERSON_DATA=pd.read_csv(\"PersonVars_appended.csv\")"
   ]
  },
  {
   "cell_type": "code",
   "execution_count": 4,
   "metadata": {},
   "outputs": [],
   "source": [
    "#Create class labels (based on quintiles) for continuous attributes\n",
    "Avg_Copay_Cutoff=20\n",
    "PERSON_DATA['Age_at_init_CAT']=pd.cut(PERSON_DATA['Age_at_init'],\n",
    "                                     bins=np.percentile(PERSON_DATA['Age_at_init'],[0,33.3,66.7,100]),\n",
    "                                     include_lowest=True,\n",
    "                                     labels=[1,2,3])\n",
    "PERSON_DATA['Average_copay_CAT']=pd.cut(PERSON_DATA['Average_copay'],\n",
    "                                     bins=[min(PERSON_DATA['Average_copay']),Avg_Copay_Cutoff,max(PERSON_DATA['Average_copay'])],\n",
    "                                     include_lowest=True,\n",
    "                                     labels=[0,1])\n",
    "PERSON_DATA['Dur_subopt_CAT']=pd.cut(PERSON_DATA['Dur_subopt'],\n",
    "                                     bins=np.percentile(PERSON_DATA['Dur_subopt'],[0,33.3,66.7,100]),\n",
    "                                     include_lowest=True,\n",
    "                                     labels=[1,2,3])\n",
    "PERSON_DATA['Num_protect_interval_CAT']=pd.cut(PERSON_DATA['Num_protect_interval'],\n",
    "                                     bins=[1,3,max(PERSON_DATA['Num_protect_interval'])],\n",
    "                                     include_lowest=True,\n",
    "                                     labels=[0,1])"
   ]
  },
  {
   "cell_type": "code",
   "execution_count": 5,
   "metadata": {},
   "outputs": [
    {
     "name": "stdout",
     "output_type": "stream",
     "text": [
      "Num_protect_interval_CAT: MIN = 1\n",
      "Num_protect_interval_CAT: MAX = 3\n",
      "Num_protect_interval_CAT: MIN = 4\n",
      "Num_protect_interval_CAT: MAX = 6\n"
     ]
    }
   ],
   "source": [
    "print(\"Num_protect_interval_CAT: MIN =\",min(PERSON_DATA.loc[PERSON_DATA['Num_protect_interval_CAT']==0,'Num_protect_interval']))\n",
    "print(\"Num_protect_interval_CAT: MAX =\",max(PERSON_DATA.loc[PERSON_DATA['Num_protect_interval_CAT']==0,'Num_protect_interval']))\n",
    "print(\"Num_protect_interval_CAT: MIN =\",min(PERSON_DATA.loc[PERSON_DATA['Num_protect_interval_CAT']==1,'Num_protect_interval']))\n",
    "print(\"Num_protect_interval_CAT: MAX =\",max(PERSON_DATA.loc[PERSON_DATA['Num_protect_interval_CAT']==1,'Num_protect_interval']))"
   ]
  },
  {
   "cell_type": "code",
   "execution_count": 6,
   "metadata": {},
   "outputs": [
    {
     "name": "stdout",
     "output_type": "stream",
     "text": [
      "Avg Copay CAT=0: MIN = 0.0014466757625993\n",
      "Avg Copay CAT=0: MAX = 19.999495211848075\n",
      "Avg Copay CAT=1: MIN = 20.00519949246824\n",
      "Avg Copay CAT=1: MAX = 181.13185749472308\n"
     ]
    }
   ],
   "source": [
    "#Check if categorical variable for average copay is created correctly\n",
    "print(\"Avg Copay CAT=0: MIN =\",min(PERSON_DATA.loc[PERSON_DATA['Average_copay_CAT']==0,'Average_copay']))\n",
    "print(\"Avg Copay CAT=0: MAX =\",max(PERSON_DATA.loc[PERSON_DATA['Average_copay_CAT']==0,'Average_copay']))\n",
    "print(\"Avg Copay CAT=1: MIN =\",min(PERSON_DATA.loc[PERSON_DATA['Average_copay_CAT']==1,'Average_copay']))\n",
    "print(\"Avg Copay CAT=1: MAX =\",max(PERSON_DATA.loc[PERSON_DATA['Average_copay_CAT']==1,'Average_copay']))\n"
   ]
  },
  {
   "cell_type": "code",
   "execution_count": 7,
   "metadata": {},
   "outputs": [
    {
     "data": {
      "text/html": [
       "<div>\n",
       "<style scoped>\n",
       "    .dataframe tbody tr th:only-of-type {\n",
       "        vertical-align: middle;\n",
       "    }\n",
       "\n",
       "    .dataframe tbody tr th {\n",
       "        vertical-align: top;\n",
       "    }\n",
       "\n",
       "    .dataframe thead th {\n",
       "        text-align: right;\n",
       "    }\n",
       "</style>\n",
       "<table border=\"1\" class=\"dataframe\">\n",
       "  <thead>\n",
       "    <tr style=\"text-align: right;\">\n",
       "      <th></th>\n",
       "      <th>Unnamed: 0</th>\n",
       "      <th>ID</th>\n",
       "      <th>Age_at_init</th>\n",
       "      <th>Primary_payer</th>\n",
       "      <th>Average_copay</th>\n",
       "      <th>Pharmacy_type</th>\n",
       "      <th>Dur_subopt</th>\n",
       "      <th>Num_protect_interval</th>\n",
       "      <th>Age_at_init_CAT</th>\n",
       "      <th>Average_copay_CAT</th>\n",
       "      <th>Dur_subopt_CAT</th>\n",
       "      <th>Num_protect_interval_CAT</th>\n",
       "    </tr>\n",
       "  </thead>\n",
       "  <tbody>\n",
       "  </tbody>\n",
       "</table>\n",
       "</div>"
      ],
      "text/plain": [
       "Empty DataFrame\n",
       "Columns: [Unnamed: 0, ID, Age_at_init, Primary_payer, Average_copay, Pharmacy_type, Dur_subopt, Num_protect_interval, Age_at_init_CAT, Average_copay_CAT, Dur_subopt_CAT, Num_protect_interval_CAT]\n",
       "Index: []"
      ]
     },
     "execution_count": 7,
     "metadata": {},
     "output_type": "execute_result"
    }
   ],
   "source": [
    "#Check for missing values\n",
    "PERSON_DATA.loc[PERSON_DATA.isna().any(axis=1)]"
   ]
  },
  {
   "cell_type": "markdown",
   "metadata": {},
   "source": [
    "### Implement stratified sampling"
   ]
  },
  {
   "cell_type": "code",
   "execution_count": 16,
   "metadata": {},
   "outputs": [],
   "source": [
    "#Import the original sero-protection dataset \n",
    "SeroProtect = np.loadtxt('SeroProtect_13k.txt', usecols=range(104), delimiter=\",\")\n",
    "orig_size=len(SeroProtect)\n",
    "\n",
    "#Import the original PMC dataset \n",
    "PMC=np.loadtxt('PMC_13k.txt', usecols=range(103), delimiter=\",\")"
   ]
  },
  {
   "cell_type": "code",
   "execution_count": 17,
   "metadata": {},
   "outputs": [
    {
     "name": "stdout",
     "output_type": "stream",
     "text": [
      "Age_at_init_CAT  Average_copay_CAT  Primary_payer  Dur_subopt_CAT\n",
      "1                0                  0              1                 249.846154\n",
      "                                                   2                 262.461538\n",
      "                                                   3                 248.307692\n",
      "                                    1              1                  47.384615\n",
      "                                                   2                  45.230769\n",
      "                                                   3                  42.461538\n",
      "                                    2              1                  17.230769\n",
      "                                                   2                  17.538462\n",
      "                                                   3                  16.923077\n",
      "                 1                  0              1                 155.692308\n",
      "                                                   2                 142.153846\n",
      "                                                   3                 143.384615\n",
      "                                    1              1                  24.307692\n",
      "                                                   2                  26.461538\n",
      "                                                   3                  31.384615\n",
      "                                    2              1                   8.615385\n",
      "                                                   2                   9.230769\n",
      "                                                   3                   7.076923\n",
      "2                0                  0              1                 215.384615\n",
      "                                                   2                 215.076923\n",
      "                                                   3                 227.076923\n",
      "                                    1              1                  39.076923\n",
      "                                                   2                  42.461538\n",
      "                                                   3                  35.384615\n",
      "                                    2              1                  12.615385\n",
      "                                                   2                  10.769231\n",
      "                                                   3                  15.076923\n",
      "                 1                  0              1                 124.307692\n",
      "                                                   2                 128.615385\n",
      "                                                   3                 124.307692\n",
      "                                    1              1                  24.615385\n",
      "                                                   2                  21.538462\n",
      "                                                   3                  24.307692\n",
      "                                    2              1                   6.769231\n",
      "                                                   2                   8.923077\n",
      "                                                   3                   7.076923\n",
      "3                0                  0              1                 210.153846\n",
      "                                                   2                 200.923077\n",
      "                                                   3                 193.846154\n",
      "                                    1              1                  36.615385\n",
      "                                                   2                  34.461538\n",
      "                                                   3                  41.538462\n",
      "                                    2              1                  15.384615\n",
      "                                                   2                  10.461538\n",
      "                                                   3                   9.538462\n",
      "                 1                  0              1                 136.000000\n",
      "                                                   2                 126.153846\n",
      "                                                   3                 116.000000\n",
      "                                    1              1                  21.538462\n",
      "                                                   2                  21.538462\n",
      "                                                   3                  22.769231\n",
      "                                    2              1                   7.384615\n",
      "                                                   2                   7.692308\n",
      "                                                   3                   8.923077\n",
      "dtype: float64\n"
     ]
    }
   ],
   "source": [
    "#Check sample size of individual stratum \n",
    "pd.options.display.max_rows = 999\n",
    "working_size=4000\n",
    "strat_cols=['Age_at_init_CAT','Average_copay_CAT','Primary_payer','Dur_subopt_CAT']\n",
    "\n",
    "print(PERSON_DATA.groupby(strat_cols).size()/orig_size*working_size)"
   ]
  },
  {
   "cell_type": "code",
   "execution_count": 18,
   "metadata": {},
   "outputs": [],
   "source": [
    "#Conduct stratified sampling\n",
    "stratified_split = StratifiedShuffleSplit(n_splits=1, test_size=working_size/orig_size, random_state=42)\n",
    "\n",
    "for nonwork_index, work_index in stratified_split.split(PERSON_DATA, \n",
    "                                                        PERSON_DATA[strat_cols]):\n",
    "    strat_nonwork_set = PERSON_DATA.loc[nonwork_index]\n",
    "    strat_work_set = PERSON_DATA.loc[work_index]"
   ]
  },
  {
   "cell_type": "code",
   "execution_count": 19,
   "metadata": {},
   "outputs": [
    {
     "data": {
      "text/plain": [
       "False"
      ]
     },
     "execution_count": 19,
     "metadata": {},
     "output_type": "execute_result"
    }
   ],
   "source": [
    "#Check the presence of duplicated ID\n",
    "len(np.unique(strat_work_set['ID']))!=working_size"
   ]
  },
  {
   "cell_type": "code",
   "execution_count": 20,
   "metadata": {},
   "outputs": [],
   "source": [
    "strat_cols.append('Num_protect_interval_CAT')"
   ]
  },
  {
   "cell_type": "code",
   "execution_count": 21,
   "metadata": {
    "scrolled": true
   },
   "outputs": [
    {
     "name": "stdout",
     "output_type": "stream",
     "text": [
      "Age_at_init_CAT\n",
      "   Original  Working\n",
      "1  0.373923   0.3735\n",
      "2  0.320846   0.3210\n",
      "3  0.305231   0.3055\n",
      "Average_copay_CAT\n",
      "   Original  Working\n",
      "0  0.628308    0.628\n",
      "1  0.371692    0.372\n",
      "Primary_payer\n",
      "   Original  Working\n",
      "0  0.804923   0.8045\n",
      "1  0.145769   0.1460\n",
      "2  0.049308   0.0495\n",
      "Dur_subopt_CAT\n",
      "   Original  Working\n",
      "1  0.338231  0.33825\n",
      "2  0.332923  0.33325\n",
      "3  0.328846  0.32850\n",
      "Num_protect_interval_CAT\n",
      "   Original  Working\n",
      "0  0.966462  0.96425\n",
      "1  0.033538  0.03575\n"
     ]
    }
   ],
   "source": [
    "#Check distributions of columns between original and sampled datasets\n",
    "strat_cols\n",
    "for i in strat_cols:\n",
    "    X=pd.DataFrame()\n",
    "    X['Original']=PERSON_DATA[i].value_counts() / orig_size\n",
    "    X['Working']=strat_work_set[i].value_counts() / working_size\n",
    "    print(i)\n",
    "    print(X)"
   ]
  },
  {
   "cell_type": "code",
   "execution_count": 22,
   "metadata": {},
   "outputs": [],
   "source": [
    "Sampled_SeroProtect=SeroProtect[work_index]\n",
    "\n",
    "# Export sampled PrEP trajectories matrix\n",
    "f= open(\"SeroProtect_4k.txt\",\"w+\")\n",
    "for i in range(len(Sampled_SeroProtect)):\n",
    "    for j in range(104):\n",
    "        if j == 103:\n",
    "            f.write(\"%s\\n\" % (Sampled_SeroProtect[i][j]))\n",
    "        else:\n",
    "            f.write(\"%s,\" % (Sampled_SeroProtect[i][j]))\n",
    "f.close()\n"
   ]
  },
  {
   "cell_type": "markdown",
   "metadata": {},
   "source": [
    "### Descriptive statistics: sampled dataset"
   ]
  },
  {
   "cell_type": "code",
   "execution_count": 33,
   "metadata": {},
   "outputs": [],
   "source": [
    "def intv_attr(PMC):\n",
    "    # Create the matrix of suboptimal sero-protection (i.e., PMC<0.57)\n",
    "    SubProtect=PMC<4/7\n",
    "    #Create the following time series arrays:\n",
    "    ## possible PrEP cessation start time (in week)\n",
    "    ## possible PrEP cessation end time (in week)\n",
    "    ## possible PrEP use interval start time (in week)\n",
    "    ## possible PrEP use iterval end time (in week)\n",
    "    CESS_START=[]\n",
    "    CESS_END=[]\n",
    "    PrEP_START=[]\n",
    "    PrEP_END=[]\n",
    "    \n",
    "    for k in range(len(SubProtect)):\n",
    "        cess_start=[]\n",
    "        prep_start=[0]\n",
    "        cess_end=[]\n",
    "        prep_end=[]\n",
    "        for i in range(1,103):\n",
    "            if SubProtect[k][i]==True and SubProtect[k][i-1]==False:\n",
    "                cess_start.append(i)\n",
    "                prep_end.append(i)\n",
    "\n",
    "            elif SubProtect[k][i]==False and SubProtect[k][i-1]==True:\n",
    "                cess_end.append(i)\n",
    "                prep_start.append(i)\n",
    "\n",
    "        CESS_START.append(cess_start)\n",
    "        PrEP_START.append(prep_start)\n",
    "        CESS_END.append(cess_end)\n",
    "        PrEP_END.append(prep_end)\n",
    "\n",
    "    #set the Week 103 as the end point of any unclosed PrEP use interval \n",
    "    for i in range(len(SubProtect)):\n",
    "        if len(PrEP_START[i])>len(PrEP_END[i]):\n",
    "            PrEP_END[i].append(103)\n",
    "\n",
    "    for i in range(len(SubProtect)):   \n",
    "        #if more cessation start date than end date, then set the Week 103 as the end point of any unclosed \n",
    "        #cessation interval \n",
    "        if len(CESS_START[i])>len(CESS_END[i]):\n",
    "            CESS_END[i].append(103)\n",
    "        \n",
    "        #else if more cessation end date than start date, then set the Week 0 as the start point of \n",
    "        #any unclosed cessation interval \n",
    "        elif len(CESS_START[i])<len(CESS_END[i]):\n",
    "            CESS_START[i].insert(0,0)\n",
    "        #else if equal number of cessation start and end dates & the first end date predate the first start date \n",
    "        # then add Week 0 as the first start date and Week 103 as the last end date\n",
    "        elif len(CESS_START[i])==len(CESS_END[i]) and len(CESS_START[i])>0 and CESS_START[i][0]>CESS_END[i][0]:\n",
    "            CESS_START[i].insert(0,0)\n",
    "            CESS_END[i].append(103)\n",
    "        #else if it is cessation all the way through the entire follow-up period (i.e., no initial start and end dates \n",
    "        #but subpoptimal sero-protection time series is >0) then add Week 0 and 103 as the start and end dates, respectively\n",
    "        elif len(CESS_START[i])==0 and len(CESS_START[i])==0 and sum(SubProtect[i])>0:\n",
    "            CESS_START[i].insert(0,0)\n",
    "            CESS_END[i].append(103)\n",
    "    return CESS_START, CESS_END, PrEP_START, PrEP_END"
   ]
  },
  {
   "cell_type": "code",
   "execution_count": 34,
   "metadata": {
    "scrolled": true
   },
   "outputs": [],
   "source": [
    "Sampled_PMC=PMC[work_index]\n",
    "Sampled_SubProtect=Sampled_PMC<4/7\n",
    "\n",
    "CESS_START,CESS_END,PrEP_START,PrEP_END = intv_attr(Sampled_PMC)\n",
    "#Create list object: the duration of 1st, 2nd, 3rd PrEP protective intervals\n",
    "IntervalLen_1=[None]*len(Sampled_PMC)\n",
    "IntervalLen_2=[None]*len(Sampled_PMC)\n",
    "IntervalLen_3=[None]*len(Sampled_PMC)\n",
    "for i in range(len(Sampled_PMC)):\n",
    "    IntervalLen_1[i]=PrEP_END[i][0]-PrEP_START[i][0]\n",
    "    if(len(PrEP_START[i])>1):\n",
    "        IntervalLen_2[i]=PrEP_END[i][1]-PrEP_START[i][1]\n",
    "    if(len(PrEP_START[i])>2):\n",
    "        IntervalLen_3[i]=PrEP_END[i][2]-PrEP_START[i][2]    \n",
    "#Create list object: the total duration spent in sub-optimal sero-protection \n",
    "Total_SubP_Dur=np.array([sum(Sampled_SubProtect[i]) for i in range(len(Sampled_PMC))])\n",
    "#Create list object: the number of the number of sero-protection interval\n",
    "Num_Protect_Int=np.array([len(PrEP_START[i]) for i in range(len(Sampled_PMC))])"
   ]
  },
  {
   "cell_type": "code",
   "execution_count": 35,
   "metadata": {
    "scrolled": true
   },
   "outputs": [
    {
     "name": "stderr",
     "output_type": "stream",
     "text": [
      "<ipython-input-35-e995d3a7e2cd>:13: UserWarning: \n",
      "\n",
      "`distplot` is a deprecated function and will be removed in seaborn v0.14.0.\n",
      "\n",
      "Please adapt your code to use either `displot` (a figure-level function with\n",
      "similar flexibility) or `histplot` (an axes-level function for histograms).\n",
      "\n",
      "For a guide to updating your code to use the new functions, please see\n",
      "https://gist.github.com/mwaskom/de44147ed2974457ad6372750bbe5751\n",
      "\n",
      "  ax1=sns.distplot(Total_SubP_Dur, ax=ax[0][0])\n",
      "<ipython-input-35-e995d3a7e2cd>:18: UserWarning: \n",
      "\n",
      "`distplot` is a deprecated function and will be removed in seaborn v0.14.0.\n",
      "\n",
      "Please adapt your code to use either `displot` (a figure-level function with\n",
      "similar flexibility) or `histplot` (an axes-level function for histograms).\n",
      "\n",
      "For a guide to updating your code to use the new functions, please see\n",
      "https://gist.github.com/mwaskom/de44147ed2974457ad6372750bbe5751\n",
      "\n",
      "  ax2=sns.distplot(IntervalLen_1, ax=ax[0][1])\n",
      "<ipython-input-35-e995d3a7e2cd>:23: UserWarning: \n",
      "\n",
      "`distplot` is a deprecated function and will be removed in seaborn v0.14.0.\n",
      "\n",
      "Please adapt your code to use either `displot` (a figure-level function with\n",
      "similar flexibility) or `histplot` (an axes-level function for histograms).\n",
      "\n",
      "For a guide to updating your code to use the new functions, please see\n",
      "https://gist.github.com/mwaskom/de44147ed2974457ad6372750bbe5751\n",
      "\n",
      "  ax3=sns.distplot(IntervalLen_2trim, ax=ax[1][0])\n",
      "<ipython-input-35-e995d3a7e2cd>:28: UserWarning: \n",
      "\n",
      "`distplot` is a deprecated function and will be removed in seaborn v0.14.0.\n",
      "\n",
      "Please adapt your code to use either `displot` (a figure-level function with\n",
      "similar flexibility) or `histplot` (an axes-level function for histograms).\n",
      "\n",
      "For a guide to updating your code to use the new functions, please see\n",
      "https://gist.github.com/mwaskom/de44147ed2974457ad6372750bbe5751\n",
      "\n",
      "  ax4=sns.distplot(IntervalLen_3trim, ax=ax[1][1])\n"
     ]
    },
    {
     "data": {
      "image/png": "[encoded data removed]",
      "text/plain": [
       "<Figure size 1008x720 with 4 Axes>"
      ]
     },
     "metadata": {
      "needs_background": "light"
     },
     "output_type": "display_data"
    }
   ],
   "source": [
    "#Figures\n",
    "os.chdir(pr.here(\"./Figures\"))\n",
    "os.getcwd()\n",
    "\n",
    "IntervalLen_2trim=[x for x in IntervalLen_2 if x is not None]\n",
    "IntervalLen_3trim=[x for x in IntervalLen_3 if x is not None]\n",
    "\n",
    "\n",
    "fig,ax =  plt.subplots(2,2,figsize=(14,10))\n",
    "fig.tight_layout(pad=5.5)\n",
    "\n",
    "#Distribution of the total duration spent in PrEP cessation (i.e., suboptimal sero-protection)\n",
    "ax1=sns.distplot(Total_SubP_Dur, ax=ax[0][0])\n",
    "ax1.set(xlabel=\"Weeks\", ylabel=\"Proportion\")\n",
    "ax1.set_title(\"Distribution of the total time under PrEP cessation \",fontweight='bold', y=1.025)\n",
    "\n",
    "#Distribution of 1st PrEP sero-protective intervals\n",
    "ax2=sns.distplot(IntervalLen_1, ax=ax[0][1])\n",
    "ax2.set(xlabel=\"Weeks\", ylabel=\"Proportion\")\n",
    "ax2.set_title(\"Distribution of the 1st PrEP sero-protection interval length \",fontweight='bold', y=1.025)\n",
    "\n",
    "#Distribution of 2nd PrEP sero-protective intervals\n",
    "ax3=sns.distplot(IntervalLen_2trim, ax=ax[1][0])\n",
    "ax3.set(xlabel=\"Weeks\", ylabel=\"Proportion\")\n",
    "ax3.set_title(\"Distribution of the 2nd PrEP sero-protection interval length \",fontweight='bold', y=1.025)\n",
    "\n",
    "#Distribution of 2nd PrEP sero-protective intervals\n",
    "ax4=sns.distplot(IntervalLen_3trim, ax=ax[1][1])\n",
    "ax4.set(xlabel=\"Weeks\", ylabel=\"Proportion\")\n",
    "ax4.set_title(\"Distribution of the 3rd PrEP sero-protection interval length \",fontweight='bold', y=1.025)\n",
    "\n",
    "plt.savefig('Distplot_sampled.png', bbox_inches='tight')"
   ]
  },
  {
   "cell_type": "code",
   "execution_count": 36,
   "metadata": {},
   "outputs": [
    {
     "data": {
      "text/html": [
       "<div>\n",
       "<style scoped>\n",
       "    .dataframe tbody tr th:only-of-type {\n",
       "        vertical-align: middle;\n",
       "    }\n",
       "\n",
       "    .dataframe tbody tr th {\n",
       "        vertical-align: top;\n",
       "    }\n",
       "\n",
       "    .dataframe thead th {\n",
       "        text-align: right;\n",
       "    }\n",
       "</style>\n",
       "<table border=\"1\" class=\"dataframe\">\n",
       "  <thead>\n",
       "    <tr style=\"text-align: right;\">\n",
       "      <th></th>\n",
       "      <th>Attribute</th>\n",
       "      <th>Mean</th>\n",
       "      <th>SD</th>\n",
       "      <th>Median</th>\n",
       "      <th>IQR:25%</th>\n",
       "      <th>IQR:75%</th>\n",
       "    </tr>\n",
       "  </thead>\n",
       "  <tbody>\n",
       "    <tr>\n",
       "      <th>0</th>\n",
       "      <td>Total time under sub-optimal PrEP protection</td>\n",
       "      <td>65.798250</td>\n",
       "      <td>26.310417</td>\n",
       "      <td>74.0</td>\n",
       "      <td>45.0</td>\n",
       "      <td>90.0</td>\n",
       "    </tr>\n",
       "    <tr>\n",
       "      <th>1</th>\n",
       "      <td>Length of 1st PrEP protective interval</td>\n",
       "      <td>26.578500</td>\n",
       "      <td>21.540783</td>\n",
       "      <td>17.0</td>\n",
       "      <td>11.0</td>\n",
       "      <td>36.0</td>\n",
       "    </tr>\n",
       "    <tr>\n",
       "      <th>2</th>\n",
       "      <td>Length of 2nd PrEP protective interval</td>\n",
       "      <td>22.980603</td>\n",
       "      <td>17.143924</td>\n",
       "      <td>17.0</td>\n",
       "      <td>11.0</td>\n",
       "      <td>31.0</td>\n",
       "    </tr>\n",
       "    <tr>\n",
       "      <th>3</th>\n",
       "      <td>Length of 3rd PrEP protective interval</td>\n",
       "      <td>16.727447</td>\n",
       "      <td>12.167836</td>\n",
       "      <td>13.0</td>\n",
       "      <td>8.0</td>\n",
       "      <td>23.0</td>\n",
       "    </tr>\n",
       "  </tbody>\n",
       "</table>\n",
       "</div>"
      ],
      "text/plain": [
       "                                      Attribute       Mean         SD  Median  \\\n",
       "0  Total time under sub-optimal PrEP protection  65.798250  26.310417    74.0   \n",
       "1        Length of 1st PrEP protective interval  26.578500  21.540783    17.0   \n",
       "2        Length of 2nd PrEP protective interval  22.980603  17.143924    17.0   \n",
       "3        Length of 3rd PrEP protective interval  16.727447  12.167836    13.0   \n",
       "\n",
       "   IQR:25%  IQR:75%  \n",
       "0     45.0     90.0  \n",
       "1     11.0     36.0  \n",
       "2     11.0     31.0  \n",
       "3      8.0     23.0  "
      ]
     },
     "execution_count": 36,
     "metadata": {},
     "output_type": "execute_result"
    }
   ],
   "source": [
    "Tab_Lens_sampled=pd.DataFrame({\"Attribute\":[\"Total time under sub-optimal PrEP protection\",\n",
    "                                          \"Length of 1st PrEP protective interval\",\n",
    "                                          \"Length of 2nd PrEP protective interval\",\n",
    "                                          \"Length of 3rd PrEP protective interval\"],    \n",
    "                              \"Mean\":[np.mean(Total_SubP_Dur),\n",
    "                                      np.mean(IntervalLen_1),\n",
    "                                      np.mean(IntervalLen_2trim),\n",
    "                                      np.mean(IntervalLen_3trim)],\n",
    "                              \"SD\":[np.std(Total_SubP_Dur),\n",
    "                                    np.std(IntervalLen_1),\n",
    "                                    np.std(IntervalLen_2trim),\n",
    "                                    np.std(IntervalLen_3trim)],\n",
    "                              \"Median\":[np.quantile(Total_SubP_Dur, 0.5),\n",
    "                                        np.quantile(IntervalLen_1, 0.5),\n",
    "                                        np.quantile(IntervalLen_2trim, 0.5),\n",
    "                                        np.quantile(IntervalLen_3trim, 0.5)],\n",
    "                              \"IQR:25%\":[np.quantile(Total_SubP_Dur, 0.25),\n",
    "                                        np.quantile(IntervalLen_1, 0.25),\n",
    "                                        np.quantile(IntervalLen_2trim, 0.25),\n",
    "                                        np.quantile(IntervalLen_3trim, 0.25)],\n",
    "                              \"IQR:75%\":[np.quantile(Total_SubP_Dur, 0.75),\n",
    "                                        np.quantile(IntervalLen_1, 0.75),\n",
    "                                        np.quantile(IntervalLen_2trim, 0.75),\n",
    "                                        np.quantile(IntervalLen_3trim, 0.75)]\n",
    "                             })\n",
    "\n",
    "Tab_Lens_sampled"
   ]
  },
  {
   "cell_type": "code",
   "execution_count": 37,
   "metadata": {},
   "outputs": [
    {
     "data": {
      "text/html": [
       "<div>\n",
       "<style scoped>\n",
       "    .dataframe tbody tr th:only-of-type {\n",
       "        vertical-align: middle;\n",
       "    }\n",
       "\n",
       "    .dataframe tbody tr th {\n",
       "        vertical-align: top;\n",
       "    }\n",
       "\n",
       "    .dataframe thead th {\n",
       "        text-align: right;\n",
       "    }\n",
       "</style>\n",
       "<table border=\"1\" class=\"dataframe\">\n",
       "  <thead>\n",
       "    <tr style=\"text-align: right;\">\n",
       "      <th></th>\n",
       "      <th>Number of PrEP protective interval</th>\n",
       "      <th>N</th>\n",
       "      <th>%</th>\n",
       "    </tr>\n",
       "  </thead>\n",
       "  <tbody>\n",
       "    <tr>\n",
       "      <th>0</th>\n",
       "      <td>1</td>\n",
       "      <td>2608</td>\n",
       "      <td>65.2</td>\n",
       "    </tr>\n",
       "    <tr>\n",
       "      <th>1</th>\n",
       "      <td>2</td>\n",
       "      <td>871</td>\n",
       "      <td>21.8</td>\n",
       "    </tr>\n",
       "    <tr>\n",
       "      <th>2</th>\n",
       "      <td>3</td>\n",
       "      <td>378</td>\n",
       "      <td>9.4</td>\n",
       "    </tr>\n",
       "    <tr>\n",
       "      <th>3</th>\n",
       "      <td>4</td>\n",
       "      <td>125</td>\n",
       "      <td>3.1</td>\n",
       "    </tr>\n",
       "    <tr>\n",
       "      <th>4</th>\n",
       "      <td>5</td>\n",
       "      <td>16</td>\n",
       "      <td>0.4</td>\n",
       "    </tr>\n",
       "    <tr>\n",
       "      <th>5</th>\n",
       "      <td>6</td>\n",
       "      <td>2</td>\n",
       "      <td>0.0</td>\n",
       "    </tr>\n",
       "  </tbody>\n",
       "</table>\n",
       "</div>"
      ],
      "text/plain": [
       "   Number of PrEP protective interval     N     %\n",
       "0                                   1  2608  65.2\n",
       "1                                   2   871  21.8\n",
       "2                                   3   378   9.4\n",
       "3                                   4   125   3.1\n",
       "4                                   5    16   0.4\n",
       "5                                   6     2   0.0"
      ]
     },
     "execution_count": 37,
     "metadata": {},
     "output_type": "execute_result"
    }
   ],
   "source": [
    "#Categorical distribution of number of PrEP prescription interval\n",
    "freq=dict(cl.Counter(Num_Protect_Int))\n",
    "Tab_ProtectInt_sampled = pd.DataFrame(list(freq.items()),columns = ['Number of PrEP protective interval','N']).sort_values(by=['Number of PrEP protective interval']) \n",
    "Tab_ProtectInt_sampled['%']=np.around(Tab_ProtectInt_sampled['N']/len(Num_Protect_Int)*100,1)\n",
    "Tab_ProtectInt_sampled"
   ]
  },
  {
   "cell_type": "code",
   "execution_count": 44,
   "metadata": {},
   "outputs": [],
   "source": [
    "#Export descriptive statistics (original data)\n",
    "os.chdir(pr.here(\"./Export\"))\n",
    "Descript_sampled={\"Length_attributes\":Tab_Lens_sampled, \"Num_Protect_Intervals\": Tab_ProtectInt_sampled}\n",
    "import pickle\n",
    "pickle_out=open(\"Descript_sampled\",\"wb\")\n",
    "pickle.dump(Descript_sampled,pickle_out)\n",
    "pickle_out.close()"
   ]
  },
  {
   "cell_type": "code",
   "execution_count": null,
   "metadata": {},
   "outputs": [],
   "source": []
  }
 ],
 "metadata": {
  "kernelspec": {
   "display_name": "Python 3.8.3 ('base')",
   "language": "python",
   "name": "python3"
  },
  "language_info": {
   "codemirror_mode": {
    "name": "ipython",
    "version": 3
   },
   "file_extension": ".py",
   "mimetype": "text/x-python",
   "name": "python",
   "nbconvert_exporter": "python",
   "pygments_lexer": "ipython3",
   "version": "3.8.3"
  },
  "vscode": {
   "interpreter": {
    "hash": "81224cc4a8336913df7c0f37c0fa230eefd9615f2b56b8eea2331679c2f3787c"
   }
  }
 },
 "nbformat": 4,
 "nbformat_minor": 4
}
