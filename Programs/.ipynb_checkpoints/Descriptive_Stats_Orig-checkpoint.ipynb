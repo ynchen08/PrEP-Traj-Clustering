{
 "cells": [
  {
   "cell_type": "code",
   "execution_count": 85,
   "metadata": {},
   "outputs": [],
   "source": [
    "import numpy as np\n",
    "import sys, os, shutil\n",
    "import pandas as pd\n",
    "import collections as cl\n",
    "import itertools as it\n",
    "import timeit\n",
    "import pandas as pd\n",
    "import datetime as dt\n",
    "import matplotlib.pyplot as plt\n",
    "import matplotlib\n",
    "import seaborn as sns\n",
    "import copy as cp\n",
    "import pyprojroot as pr\n",
    "import scipy.stats as scs\n",
    "from sklearn.model_selection import StratifiedShuffleSplit"
   ]
  },
  {
   "cell_type": "code",
   "execution_count": 86,
   "metadata": {
    "scrolled": false
   },
   "outputs": [
    {
     "data": {
      "text/plain": [
       "'C:\\\\Users\\\\yche465\\\\Desktop\\\\AIM 1\\\\Codes\\\\PrEP-Traj-Clustering\\\\Data'"
      ]
     },
     "execution_count": 86,
     "metadata": {},
     "output_type": "execute_result"
    }
   ],
   "source": [
    "#Change directory\n",
    "os.chdir(pr.here(\"./Data\"))\n",
    "os.getcwd()"
   ]
  },
  {
   "cell_type": "markdown",
   "metadata": {},
   "source": [
    "### Prepare variables describing the PrEP use trend\n",
    "\n",
    "Create a data matrix object with the following two fields: <br> 1) the total duration spent in suboptimal sero-protection;<br> 2) the number of PrEP protection interval"
   ]
  },
  {
   "cell_type": "code",
   "execution_count": 87,
   "metadata": {},
   "outputs": [],
   "source": [
    "#Import PMC and SeroProtect matrices\n",
    "PMC = np.loadtxt('PMC_13k.txt', usecols=range(103), delimiter=\",\")\n",
    "SeroProtect = np.loadtxt('SeroProtect_13k.txt', usecols=range(104), delimiter=\",\")\n",
    "orig_size=len(SeroProtect)"
   ]
  },
  {
   "cell_type": "code",
   "execution_count": 88,
   "metadata": {},
   "outputs": [],
   "source": [
    "real_ID=SeroProtect[:,0].astype('int64')"
   ]
  },
  {
   "cell_type": "code",
   "execution_count": 89,
   "metadata": {},
   "outputs": [],
   "source": [
    "def intv_attr(PMC):\n",
    "    # Create the matrix of suboptimal sero-protection (i.e., PMC<0.57)\n",
    "    SubProtect=PMC<4/7\n",
    "    #Create the following time series arrays:\n",
    "    ## possible PrEP cessation start time (in week)\n",
    "    ## possible PrEP cessation end time (in week)\n",
    "    ## possible PrEP use interval start time (in week)\n",
    "    ## possible PrEP use iterval end time (in week)\n",
    "    CESS_START=[]\n",
    "    CESS_END=[]\n",
    "    PrEP_START=[]\n",
    "    PrEP_END=[]\n",
    "    \n",
    "    CHECK_PrEP_Init=[]\n",
    "    CHECK_PrEP_30d_2017=[]\n",
    "\n",
    "    for k in range(len(SubProtect)):\n",
    "        cess_start=[]\n",
    "        prep_start=[0]\n",
    "        cess_end=[]\n",
    "        prep_end=[]\n",
    "        for i in range(1,103):\n",
    "            if SubProtect[k][i]==True and SubProtect[k][i-1]==False:\n",
    "                cess_start.append(i)\n",
    "                prep_end.append(i)\n",
    "\n",
    "            elif SubProtect[k][i]==False and SubProtect[k][i-1]==True:\n",
    "                cess_end.append(i)\n",
    "                prep_start.append(i)\n",
    "\n",
    "        CESS_START.append(cess_start)\n",
    "        PrEP_START.append(prep_start)\n",
    "        CESS_END.append(cess_end)\n",
    "        PrEP_END.append(prep_end)\n",
    "\n",
    "    #set the Week 103 as the end point of any unclosed PrEP use interval \n",
    "    for i in range(len(SubProtect)):\n",
    "        if len(PrEP_START[i])>len(PrEP_END[i]):\n",
    "            PrEP_END[i].append(103)\n",
    "\n",
    "    for i in range(len(SubProtect)):   \n",
    "        #if more cessation start date than end date, then set the Week 103 as the end point of any unclosed \n",
    "        #cessation interval \n",
    "        if len(CESS_START[i])>len(CESS_END[i]):\n",
    "            CESS_END[i].append(103)\n",
    "        \n",
    "        #else if more cessation end date than start date, then set the Week 0 as the start point of \n",
    "        #any unclosed cessation interval \n",
    "        elif len(CESS_START[i])<len(CESS_END[i]):\n",
    "            CESS_START[i].insert(0,0)\n",
    "            print(\"Check if PrEP init record <30 day supply: subject ID=\",real_ID[i], \"/row ID=\",i)\n",
    "            CHECK_PrEP_Init.append(i)\n",
    "        #else if equal number of cessation start and end dates & the first end date predate the first start date \n",
    "        # then add Week 0 as the first start date and Week 103 as the last end date\n",
    "        elif len(CESS_START[i])==len(CESS_END[i]) and len(CESS_START[i])>0 and CESS_START[i][0]>CESS_END[i][0]:\n",
    "            CESS_START[i].insert(0,0)\n",
    "            CESS_END[i].append(103)\n",
    "            print(\"Check if PrEP init record <30 day supply: subject ID=\",real_ID[i],\"/row ID=\",i)\n",
    "            CHECK_PrEP_Init.append(i)\n",
    "        #else if it is cessation all the way through the entire follow-up period (i.e., no initial start and end dates \n",
    "        #but subpoptimal sero-protection time series is >0) then add Week 0 and 103 as the start and end dates, respectively\n",
    "        elif len(CESS_START[i])==0 and len(CESS_START[i])==0 and sum(SubProtect[i])>0:\n",
    "            CESS_START[i].insert(0,0)\n",
    "            CESS_END[i].append(103)\n",
    "            print(\"Check if the subject has at least one >=30 day PrEP record in 2017: subject ID=\",real_ID[i],\"/row ID=\",i)\n",
    "            CHECK_PrEP_30d_2017.append(i)\n",
    "    return CESS_START, CESS_END, PrEP_START, PrEP_END, CHECK_PrEP_Init, CHECK_PrEP_30d_2017"
   ]
  },
  {
   "cell_type": "code",
   "execution_count": 90,
   "metadata": {},
   "outputs": [],
   "source": [
    "CESS_START,CESS_END,PrEP_START,PrEP_END, CHECK_PrEP_Init, CHECK_PrEP_30d_2017 = intv_attr(PMC)"
   ]
  },
  {
   "cell_type": "code",
   "execution_count": 91,
   "metadata": {},
   "outputs": [
    {
     "data": {
      "text/html": [
       "<div>\n",
       "<style scoped>\n",
       "    .dataframe tbody tr th:only-of-type {\n",
       "        vertical-align: middle;\n",
       "    }\n",
       "\n",
       "    .dataframe tbody tr th {\n",
       "        vertical-align: top;\n",
       "    }\n",
       "\n",
       "    .dataframe thead th {\n",
       "        text-align: right;\n",
       "    }\n",
       "</style>\n",
       "<table border=\"1\" class=\"dataframe\">\n",
       "  <thead>\n",
       "    <tr style=\"text-align: right;\">\n",
       "      <th></th>\n",
       "      <th>ID</th>\n",
       "      <th>PrEP_Start</th>\n",
       "      <th>PrEP_End</th>\n",
       "    </tr>\n",
       "  </thead>\n",
       "  <tbody>\n",
       "    <tr>\n",
       "      <th>21</th>\n",
       "      <td>351</td>\n",
       "      <td>10/13/2023</td>\n",
       "      <td>01/30/2025</td>\n",
       "    </tr>\n",
       "  </tbody>\n",
       "</table>\n",
       "</div>"
      ],
      "text/plain": [
       "     ID  PrEP_Start    PrEP_End\n",
       "21  351  10/13/2023  01/30/2025"
      ]
     },
     "execution_count": 91,
     "metadata": {},
     "output_type": "execute_result"
    }
   ],
   "source": [
    "#Check if the subject's PrEP initiation record <30 day supply\n",
    "#Check if the subject has at least one >=30 day PrEP record in 2017\n",
    "#Please feel free to change '12' in real_ID to any other row ID shown in 'CHECK_PrEP_Init' or 'CHECK_PrEP_30d_2017'\n",
    "prescript_rec=pd.read_csv(\"syndata_13k.csv\").astype({'ID':'int'})\n",
    "prescript_rec.loc[prescript_rec['ID']==real_ID[12],:]"
   ]
  },
  {
   "cell_type": "code",
   "execution_count": 92,
   "metadata": {},
   "outputs": [],
   "source": [
    "#Create list object: the duration of 1st, 2nd, 3rd PrEP protective intervals\n",
    "IntervalLen_1=[None]*orig_size\n",
    "IntervalLen_2=[None]*orig_size\n",
    "IntervalLen_3=[None]*orig_size\n",
    "for i in range(orig_size):\n",
    "    IntervalLen_1[i]=PrEP_END[i][0]-PrEP_START[i][0]\n",
    "    if(len(PrEP_START[i])>1):\n",
    "        IntervalLen_2[i]=PrEP_END[i][1]-PrEP_START[i][1]\n",
    "    if(len(PrEP_START[i])>2):\n",
    "        IntervalLen_3[i]=PrEP_END[i][2]-PrEP_START[i][2]    "
   ]
  },
  {
   "cell_type": "code",
   "execution_count": 93,
   "metadata": {},
   "outputs": [],
   "source": [
    "#Create list object: the total duration spent in sub-optimal sero-protection \n",
    "SubProtect=PMC<4/7\n",
    "Total_SubP_Dur=np.array([sum(SubProtect[i]) for i in range(orig_size)])\n",
    "#Create list object: the number of the number of sero-protection interval\n",
    "Num_Protect_Int=np.array([len(PrEP_START[i]) for i in range(orig_size)])"
   ]
  },
  {
   "cell_type": "markdown",
   "metadata": {},
   "source": [
    "### Descriptive statistics: original dataset"
   ]
  },
  {
   "cell_type": "code",
   "execution_count": 94,
   "metadata": {},
   "outputs": [
    {
     "data": {
      "text/plain": [
       "'C:\\\\Users\\\\yche465\\\\Desktop\\\\AIM 1\\\\Codes\\\\PrEP-Traj-Clustering\\\\Figures'"
      ]
     },
     "execution_count": 94,
     "metadata": {},
     "output_type": "execute_result"
    }
   ],
   "source": [
    "os.chdir(pr.here(\"./Figures\"))\n",
    "os.getcwd()"
   ]
  },
  {
   "cell_type": "code",
   "execution_count": 95,
   "metadata": {
    "scrolled": true
   },
   "outputs": [
    {
     "data": {
      "image/png": "[encoded data removed]",
      "text/plain": [
       "<Figure size 1008x720 with 4 Axes>"
      ]
     },
     "metadata": {
      "needs_background": "light"
     },
     "output_type": "display_data"
    }
   ],
   "source": [
    "IntervalLen_2trim=[x for x in IntervalLen_2 if x is not None]\n",
    "IntervalLen_3trim=[x for x in IntervalLen_3 if x is not None]\n",
    "\n",
    "\n",
    "fig,ax =  plt.subplots(2,2,figsize=(14,10))\n",
    "fig.tight_layout(pad=5.5)\n",
    "\n",
    "#Distribution of the total duration spent in PrEP cessation (i.e., suboptimal sero-protection)\n",
    "ax1=sns.distplot(Total_SubP_Dur, ax=ax[0][0])\n",
    "ax1.set(xlabel=\"Weeks\", ylabel=\"Proportion\")\n",
    "ax1.set_title(\"Distribution of the total time under PrEP cessation \",fontweight='bold', y=1.025)\n",
    "\n",
    "#Distribution of 1st PrEP sero-protective intervals\n",
    "ax2=sns.distplot(IntervalLen_1, ax=ax[0][1])\n",
    "ax2.set(xlabel=\"Weeks\", ylabel=\"Proportion\")\n",
    "ax2.set_title(\"Distribution of the 1st PrEP sero-protection interval length \",fontweight='bold', y=1.025)\n",
    "\n",
    "#Distribution of 2nd PrEP sero-protective intervals\n",
    "ax3=sns.distplot(IntervalLen_2trim, ax=ax[1][0])\n",
    "ax3.set(xlabel=\"Weeks\", ylabel=\"Proportion\")\n",
    "ax3.set_title(\"Distribution of the 2nd PrEP sero-protection interval length \",fontweight='bold', y=1.025)\n",
    "\n",
    "#Distribution of 2nd PrEP sero-protective intervals\n",
    "ax4=sns.distplot(IntervalLen_3trim, ax=ax[1][1])\n",
    "ax4.set(xlabel=\"Weeks\", ylabel=\"Proportion\")\n",
    "ax4.set_title(\"Distribution of the 3rd PrEP sero-protection interval length \",fontweight='bold', y=1.025)\n",
    "\n",
    "plt.savefig('Distplot.png', bbox_inches='tight')"
   ]
  },
  {
   "cell_type": "code",
   "execution_count": 96,
   "metadata": {
    "scrolled": false
   },
   "outputs": [
    {
     "data": {
      "text/html": [
       "<div>\n",
       "<style scoped>\n",
       "    .dataframe tbody tr th:only-of-type {\n",
       "        vertical-align: middle;\n",
       "    }\n",
       "\n",
       "    .dataframe tbody tr th {\n",
       "        vertical-align: top;\n",
       "    }\n",
       "\n",
       "    .dataframe thead th {\n",
       "        text-align: right;\n",
       "    }\n",
       "</style>\n",
       "<table border=\"1\" class=\"dataframe\">\n",
       "  <thead>\n",
       "    <tr style=\"text-align: right;\">\n",
       "      <th></th>\n",
       "      <th>Attribute</th>\n",
       "      <th>Mean</th>\n",
       "      <th>SD</th>\n",
       "      <th>Median</th>\n",
       "      <th>IQR:25%</th>\n",
       "      <th>IQR:75%</th>\n",
       "    </tr>\n",
       "  </thead>\n",
       "  <tbody>\n",
       "    <tr>\n",
       "      <th>0</th>\n",
       "      <td>Total time under sub-optimal PrEP protection</td>\n",
       "      <td>65.932308</td>\n",
       "      <td>26.183751</td>\n",
       "      <td>73.0</td>\n",
       "      <td>46.0</td>\n",
       "      <td>91.0</td>\n",
       "    </tr>\n",
       "    <tr>\n",
       "      <th>1</th>\n",
       "      <td>Length of 1st PrEP protective interval</td>\n",
       "      <td>26.308077</td>\n",
       "      <td>21.174864</td>\n",
       "      <td>17.0</td>\n",
       "      <td>11.0</td>\n",
       "      <td>35.0</td>\n",
       "    </tr>\n",
       "    <tr>\n",
       "      <th>2</th>\n",
       "      <td>Length of 2nd PrEP protective interval</td>\n",
       "      <td>23.067974</td>\n",
       "      <td>17.365021</td>\n",
       "      <td>17.0</td>\n",
       "      <td>10.0</td>\n",
       "      <td>32.0</td>\n",
       "    </tr>\n",
       "    <tr>\n",
       "      <th>3</th>\n",
       "      <td>Length of 3rd PrEP protective interval</td>\n",
       "      <td>16.932934</td>\n",
       "      <td>12.113250</td>\n",
       "      <td>13.0</td>\n",
       "      <td>8.0</td>\n",
       "      <td>23.0</td>\n",
       "    </tr>\n",
       "  </tbody>\n",
       "</table>\n",
       "</div>"
      ],
      "text/plain": [
       "                                      Attribute       Mean         SD  Median  \\\n",
       "0  Total time under sub-optimal PrEP protection  65.932308  26.183751    73.0   \n",
       "1        Length of 1st PrEP protective interval  26.308077  21.174864    17.0   \n",
       "2        Length of 2nd PrEP protective interval  23.067974  17.365021    17.0   \n",
       "3        Length of 3rd PrEP protective interval  16.932934  12.113250    13.0   \n",
       "\n",
       "   IQR:25%  IQR:75%  \n",
       "0     46.0     91.0  \n",
       "1     11.0     35.0  \n",
       "2     10.0     32.0  \n",
       "3      8.0     23.0  "
      ]
     },
     "execution_count": 96,
     "metadata": {},
     "output_type": "execute_result"
    }
   ],
   "source": [
    "Tab_Lens_orig=pd.DataFrame({\"Attribute\":[\"Total time under sub-optimal PrEP protection\",\n",
    "                                          \"Length of 1st PrEP protective interval\",\n",
    "                                          \"Length of 2nd PrEP protective interval\",\n",
    "                                          \"Length of 3rd PrEP protective interval\"],    \n",
    "                              \"Mean\":[np.mean(Total_SubP_Dur),\n",
    "                                      np.mean(IntervalLen_1),\n",
    "                                      np.mean(IntervalLen_2trim),\n",
    "                                      np.mean(IntervalLen_3trim)],\n",
    "                              \"SD\":[np.std(Total_SubP_Dur),\n",
    "                                    np.std(IntervalLen_1),\n",
    "                                    np.std(IntervalLen_2trim),\n",
    "                                    np.std(IntervalLen_3trim)],\n",
    "                              \"Median\":[np.quantile(Total_SubP_Dur, 0.5),\n",
    "                                        np.quantile(IntervalLen_1, 0.5),\n",
    "                                        np.quantile(IntervalLen_2trim, 0.5),\n",
    "                                        np.quantile(IntervalLen_3trim, 0.5)],\n",
    "                              \"IQR:25%\":[np.quantile(Total_SubP_Dur, 0.25),\n",
    "                                        np.quantile(IntervalLen_1, 0.25),\n",
    "                                        np.quantile(IntervalLen_2trim, 0.25),\n",
    "                                        np.quantile(IntervalLen_3trim, 0.25)],\n",
    "                              \"IQR:75%\":[np.quantile(Total_SubP_Dur, 0.75),\n",
    "                                        np.quantile(IntervalLen_1, 0.75),\n",
    "                                        np.quantile(IntervalLen_2trim, 0.75),\n",
    "                                        np.quantile(IntervalLen_3trim, 0.75)]\n",
    "                             })\n",
    "\n",
    "Tab_Lens_orig"
   ]
  },
  {
   "cell_type": "code",
   "execution_count": 97,
   "metadata": {},
   "outputs": [
    {
     "data": {
      "text/html": [
       "<div>\n",
       "<style scoped>\n",
       "    .dataframe tbody tr th:only-of-type {\n",
       "        vertical-align: middle;\n",
       "    }\n",
       "\n",
       "    .dataframe tbody tr th {\n",
       "        vertical-align: top;\n",
       "    }\n",
       "\n",
       "    .dataframe thead th {\n",
       "        text-align: right;\n",
       "    }\n",
       "</style>\n",
       "<table border=\"1\" class=\"dataframe\">\n",
       "  <thead>\n",
       "    <tr style=\"text-align: right;\">\n",
       "      <th></th>\n",
       "      <th>Number of PrEP protective interval</th>\n",
       "      <th>N</th>\n",
       "      <th>%</th>\n",
       "    </tr>\n",
       "  </thead>\n",
       "  <tbody>\n",
       "    <tr>\n",
       "      <th>1</th>\n",
       "      <td>1</td>\n",
       "      <td>8410</td>\n",
       "      <td>64.7</td>\n",
       "    </tr>\n",
       "    <tr>\n",
       "      <th>3</th>\n",
       "      <td>2</td>\n",
       "      <td>2920</td>\n",
       "      <td>22.5</td>\n",
       "    </tr>\n",
       "    <tr>\n",
       "      <th>0</th>\n",
       "      <td>3</td>\n",
       "      <td>1234</td>\n",
       "      <td>9.5</td>\n",
       "    </tr>\n",
       "    <tr>\n",
       "      <th>2</th>\n",
       "      <td>4</td>\n",
       "      <td>383</td>\n",
       "      <td>2.9</td>\n",
       "    </tr>\n",
       "    <tr>\n",
       "      <th>4</th>\n",
       "      <td>5</td>\n",
       "      <td>50</td>\n",
       "      <td>0.4</td>\n",
       "    </tr>\n",
       "    <tr>\n",
       "      <th>5</th>\n",
       "      <td>6</td>\n",
       "      <td>3</td>\n",
       "      <td>0.0</td>\n",
       "    </tr>\n",
       "  </tbody>\n",
       "</table>\n",
       "</div>"
      ],
      "text/plain": [
       "   Number of PrEP protective interval     N     %\n",
       "1                                   1  8410  64.7\n",
       "3                                   2  2920  22.5\n",
       "0                                   3  1234   9.5\n",
       "2                                   4   383   2.9\n",
       "4                                   5    50   0.4\n",
       "5                                   6     3   0.0"
      ]
     },
     "execution_count": 97,
     "metadata": {},
     "output_type": "execute_result"
    }
   ],
   "source": [
    "#Categorical distribution of number of PrEP prescription interval\n",
    "freq=dict(cl.Counter(Num_Protect_Int))\n",
    "Tab_ProtectInt_orig = pd.DataFrame(list(freq.items()),columns = ['Number of PrEP protective interval','N']).sort_values(by=['Number of PrEP protective interval']) \n",
    "Tab_ProtectInt_orig['%']=np.around(Tab_ProtectInt_orig['N']/len(Num_Protect_Int)*100,1)\n",
    "Tab_ProtectInt_orig"
   ]
  },
  {
   "cell_type": "code",
   "execution_count": 98,
   "metadata": {},
   "outputs": [],
   "source": [
    "#Export descriptive statistics (original data)\n",
    "os.chdir(pr.here(\"./Export\"))\n",
    "Descript_orig={\"Length_attributes\":Tab_Lens_orig, \"Num_Protect_Intervals\": Tab_ProtectInt_orig}\n",
    "import pickle\n",
    "pickle_out=open(\"Descript_orig\",\"wb\")\n",
    "pickle.dump(Descript_orig,pickle_out)\n",
    "pickle_out.close()"
   ]
  },
  {
   "cell_type": "code",
   "execution_count": 99,
   "metadata": {},
   "outputs": [
    {
     "name": "stdout",
     "output_type": "stream",
     "text": [
      "True\n"
     ]
    }
   ],
   "source": [
    "os.chdir(pr.here(\"./Data\"))\n",
    "#Import person-level covariates\n",
    "PERSON_DATA=pd.read_csv(\"PersonVars.csv\")\n",
    "\n",
    "#Check whether the ID in the peron-level covariate datasets is the same as the \n",
    "print(min(SeroProtect[:,0]==PERSON_DATA['ID']))\n",
    "\n",
    "#if TRUE, then append the two PrEP trajectory related variables\n",
    "if min(SeroProtect[:,0]==PERSON_DATA['ID']):\n",
    "    PERSON_DATA[\"Dur_subopt\"]=Total_SubP_Dur\n",
    "    PERSON_DATA[\"Num_protect_interval\"]=Num_Protect_Int"
   ]
  },
  {
   "cell_type": "code",
   "execution_count": 101,
   "metadata": {},
   "outputs": [],
   "source": [
    "#Save the appended covariate dataset as csv \n",
    "PERSON_DATA.to_csv(\"PersonVars_appended.csv\")"
   ]
  },
  {
   "cell_type": "code",
   "execution_count": null,
   "metadata": {},
   "outputs": [],
   "source": []
  },
  {
   "cell_type": "code",
   "execution_count": null,
   "metadata": {},
   "outputs": [],
   "source": []
  },
  {
   "cell_type": "code",
   "execution_count": 60,
   "metadata": {},
   "outputs": [],
   "source": [
    "#Create class labels (based on quintiles) for continuous attributes\n",
    "Avg_Copay_Cutoff=20\n",
    "PERSON_DATA['Age_at_init_CAT']=pd.cut(PERSON_DATA['Age_at_init'],\n",
    "                                     bins=np.percentile(PERSON_DATA['Age_at_init'],[0,33.3,66.7,100]),\n",
    "                                     include_lowest=True,\n",
    "                                     labels=[1,2,3])\n",
    "PERSON_DATA['Average_copay_CAT']=pd.cut(PERSON_DATA['Average_copay'],\n",
    "                                     bins=[min(PERSON_DATA['Average_copay']),Avg_Copay_Cutoff,max(PERSON_DATA['Average_copay'])],\n",
    "                                     include_lowest=True,\n",
    "                                     labels=[0,1])\n",
    "PERSON_DATA['Dur_subopt_CAT']=pd.cut(PERSON_DATA['Dur_subopt'],\n",
    "                                     bins=np.percentile(PERSON_DATA['Dur_subopt'],[0,33.3,66.7,100]),\n",
    "                                     include_lowest=True,\n",
    "                                     labels=[1,2,3])\n",
    "PERSON_DATA['Num_protect_interval_CAT']=pd.cut(PERSON_DATA['Num_protect_interval'],\n",
    "                                     bins=[1,2,max(PERSON_DATA['Num_protect_interval'])],\n",
    "                                     include_lowest=True,\n",
    "                                     labels=[0,1])"
   ]
  },
  {
   "cell_type": "code",
   "execution_count": 65,
   "metadata": {},
   "outputs": [
    {
     "name": "stdout",
     "output_type": "stream",
     "text": [
      "Avg Copay CAT=0: MIN = 0.0014466757625993193\n",
      "Avg Copay CAT=0: MAX = 19.999495211848075\n",
      "Avg Copay CAT=1: MIN = 20.005199492468236\n",
      "Avg Copay CAT=1: MAX = 181.13185749472308\n"
     ]
    }
   ],
   "source": [
    "#Check if categorical variable for average copay is created correctly\n",
    "print(\"Avg Copay CAT=0: MIN =\",min(PERSON_DATA.loc[PERSON_DATA['Average_copay_CAT']==0,'Average_copay']))\n",
    "print(\"Avg Copay CAT=0: MAX =\",max(PERSON_DATA.loc[PERSON_DATA['Average_copay_CAT']==0,'Average_copay']))\n",
    "print(\"Avg Copay CAT=1: MIN =\",min(PERSON_DATA.loc[PERSON_DATA['Average_copay_CAT']==1,'Average_copay']))\n",
    "print(\"Avg Copay CAT=1: MAX =\",max(PERSON_DATA.loc[PERSON_DATA['Average_copay_CAT']==1,'Average_copay']))\n"
   ]
  },
  {
   "cell_type": "code",
   "execution_count": 66,
   "metadata": {
    "scrolled": true
   },
   "outputs": [
    {
     "data": {
      "text/html": [
       "<div>\n",
       "<style scoped>\n",
       "    .dataframe tbody tr th:only-of-type {\n",
       "        vertical-align: middle;\n",
       "    }\n",
       "\n",
       "    .dataframe tbody tr th {\n",
       "        vertical-align: top;\n",
       "    }\n",
       "\n",
       "    .dataframe thead th {\n",
       "        text-align: right;\n",
       "    }\n",
       "</style>\n",
       "<table border=\"1\" class=\"dataframe\">\n",
       "  <thead>\n",
       "    <tr style=\"text-align: right;\">\n",
       "      <th></th>\n",
       "      <th>ID</th>\n",
       "      <th>Age_at_init</th>\n",
       "      <th>Primary_payer</th>\n",
       "      <th>Average_copay</th>\n",
       "      <th>Pharmacy_type</th>\n",
       "      <th>Dur_subopt</th>\n",
       "      <th>Num_protect_interval</th>\n",
       "      <th>Age_at_init_CAT</th>\n",
       "      <th>Average_copay_CAT</th>\n",
       "      <th>Dur_subopt_CAT</th>\n",
       "      <th>Num_protect_interval_CAT</th>\n",
       "    </tr>\n",
       "  </thead>\n",
       "  <tbody>\n",
       "  </tbody>\n",
       "</table>\n",
       "</div>"
      ],
      "text/plain": [
       "Empty DataFrame\n",
       "Columns: [ID, Age_at_init, Primary_payer, Average_copay, Pharmacy_type, Dur_subopt, Num_protect_interval, Age_at_init_CAT, Average_copay_CAT, Dur_subopt_CAT, Num_protect_interval_CAT]\n",
       "Index: []"
      ]
     },
     "execution_count": 66,
     "metadata": {},
     "output_type": "execute_result"
    }
   ],
   "source": [
    "#Check for missing values\n",
    "PERSON_DATA.loc[PERSON_DATA.isna().any(axis=1)]"
   ]
  },
  {
   "cell_type": "code",
   "execution_count": 67,
   "metadata": {},
   "outputs": [
    {
     "name": "stdout",
     "output_type": "stream",
     "text": [
      "Age_at_init_CAT  Average_copay_CAT  Primary_payer  Pharmacy_type  Dur_subopt_CAT\n",
      "1                0                  0              0              1                 125.230769\n",
      "                                                                  2                 125.230769\n",
      "                                                                  3                 124.000000\n",
      "                                                   1              1                 124.615385\n",
      "                                                                  2                 137.230769\n",
      "                                                                  3                 124.307692\n",
      "                                    1              0              1                  24.000000\n",
      "                                                                  2                  22.153846\n",
      "                                                                  3                  24.923077\n",
      "                                                   1              1                  23.384615\n",
      "                                                                  2                  23.076923\n",
      "                                                                  3                  17.538462\n",
      "                                    2              0              1                   8.923077\n",
      "                                                                  2                  10.153846\n",
      "                                                                  3                   8.923077\n",
      "                                                   1              1                   8.307692\n",
      "                                                                  2                   7.384615\n",
      "                                                                  3                   8.000000\n",
      "                 1                  0              0              1                  74.769231\n",
      "                                                                  2                  72.923077\n",
      "                                                                  3                  71.692308\n",
      "                                                   1              1                  80.923077\n",
      "                                                                  2                  69.230769\n",
      "                                                                  3                  71.692308\n",
      "                                    1              0              1                   8.307692\n",
      "                                                                  2                  12.615385\n",
      "                                                                  3                  15.384615\n",
      "                                                   1              1                  16.000000\n",
      "                                                                  2                  13.846154\n",
      "                                                                  3                  16.000000\n",
      "                                    2              0              1                   5.846154\n",
      "                                                                  2                   4.615385\n",
      "                                                                  3                   4.615385\n",
      "                                                   1              1                   2.769231\n",
      "                                                                  2                   4.615385\n",
      "                                                                  3                   2.461538\n",
      "2                0                  0              0              1                 108.307692\n",
      "                                                                  2                 109.846154\n",
      "                                                                  3                 118.153846\n",
      "                                                   1              1                 107.076923\n",
      "                                                                  2                 105.230769\n",
      "                                                                  3                 108.923077\n",
      "                                    1              0              1                  19.692308\n",
      "                                                                  2                  21.846154\n",
      "                                                                  3                  16.307692\n",
      "                                                   1              1                  19.384615\n",
      "                                                                  2                  20.615385\n",
      "                                                                  3                  19.076923\n",
      "                                    2              0              1                   6.769231\n",
      "                                                                  2                   5.538462\n",
      "                                                                  3                   9.230769\n",
      "                                                   1              1                   5.846154\n",
      "                                                                  2                   5.230769\n",
      "                                                                  3                   5.846154\n",
      "                 1                  0              0              1                  60.615385\n",
      "                                                                  2                  62.461538\n",
      "                                                                  3                  62.153846\n",
      "                                                   1              1                  63.692308\n",
      "                                                                  2                  66.153846\n",
      "                                                                  3                  62.153846\n",
      "                                    1              0              1                  14.153846\n",
      "                                                                  2                  11.384615\n",
      "                                                                  3                  13.230769\n",
      "                                                   1              1                  10.461538\n",
      "                                                                  2                  10.153846\n",
      "                                                                  3                  11.076923\n",
      "                                    2              0              1                   3.384615\n",
      "                                                                  2                   3.076923\n",
      "                                                                  3                   2.153846\n",
      "                                                   1              1                   3.384615\n",
      "                                                                  2                   5.846154\n",
      "                                                                  3                   4.923077\n",
      "3                0                  0              0              1                 101.230769\n",
      "                                                                  2                 109.538462\n",
      "                                                                  3                  93.846154\n",
      "                                                   1              1                 108.923077\n",
      "                                                                  2                  91.384615\n",
      "                                                                  3                 100.000000\n",
      "                                    1              0              1                  16.923077\n",
      "                                                                  2                  19.076923\n",
      "                                                                  3                  23.384615\n",
      "                                                   1              1                  19.692308\n",
      "                                                                  2                  15.384615\n",
      "                                                                  3                  18.153846\n",
      "                                    2              0              1                   8.000000\n",
      "                                                                  2                   4.307692\n",
      "                                                                  3                   4.307692\n",
      "                                                   1              1                   7.384615\n",
      "                                                                  2                   6.153846\n",
      "                                                                  3                   5.230769\n",
      "                 1                  0              0              1                  68.000000\n",
      "                                                                  2                  58.461538\n",
      "                                                                  3                  55.076923\n",
      "                                                   1              1                  68.000000\n",
      "                                                                  2                  67.692308\n",
      "                                                                  3                  60.923077\n",
      "                                    1              0              1                  11.384615\n",
      "                                                                  2                  11.384615\n",
      "                                                                  3                  12.615385\n",
      "                                                   1              1                  10.153846\n",
      "                                                                  2                  10.153846\n",
      "                                                                  3                  10.153846\n",
      "                                    2              0              1                   3.076923\n",
      "                                                                  2                   2.461538\n",
      "                                                                  3                   3.384615\n",
      "                                                   1              1                   4.307692\n",
      "                                                                  2                   5.230769\n",
      "                                                                  3                   5.538462\n",
      "dtype: float64\n"
     ]
    }
   ],
   "source": [
    "#Check sample size of individual stratum \n",
    "pd.options.display.max_rows = 999\n",
    "working_size=4000\n",
    "strat_cols=['Age_at_init_CAT','Average_copay_CAT','Primary_payer','Pharmacy_type','Dur_subopt_CAT']\n",
    "\n",
    "print(PERSON_DATA.groupby(strat_cols).size()/orig_size*working_size)"
   ]
  },
  {
   "cell_type": "code",
   "execution_count": 70,
   "metadata": {},
   "outputs": [],
   "source": [
    "#Stratified sampling\n",
    "stratified_split = StratifiedShuffleSplit(n_splits=1, test_size=working_size/orig_size, random_state=42)\n",
    "\n",
    "for nonwork_index, work_index in stratified_split.split(PERSON_DATA, \n",
    "                                                        PERSON_DATA[strat_cols]):\n",
    "    strat_nonwork_set = PERSON_DATA.loc[nonwork_index]\n",
    "    strat_work_set = PERSON_DATA.loc[work_index]"
   ]
  },
  {
   "cell_type": "code",
   "execution_count": 71,
   "metadata": {},
   "outputs": [
    {
     "data": {
      "text/plain": [
       "False"
      ]
     },
     "execution_count": 71,
     "metadata": {},
     "output_type": "execute_result"
    }
   ],
   "source": [
    "#Check the presence of duplicated ID\n",
    "len(np.unique(strat_work_set['ID']))!=working_size"
   ]
  },
  {
   "cell_type": "code",
   "execution_count": 72,
   "metadata": {
    "scrolled": true
   },
   "outputs": [
    {
     "name": "stdout",
     "output_type": "stream",
     "text": [
      "Age_at_init_CAT\n",
      "   Original  Working\n",
      "1  0.373923  0.37425\n",
      "2  0.320846  0.32075\n",
      "3  0.305231  0.30500\n",
      "Average_copay_CAT\n",
      "   Original  Working\n",
      "0  0.628308  0.62775\n",
      "1  0.371692  0.37225\n",
      "Primary_payer\n",
      "   Original  Working\n",
      "0  0.804923  0.80550\n",
      "1  0.145769  0.14525\n",
      "2  0.049308  0.04925\n",
      "Pharmacy_type\n",
      "   Original  Working\n",
      "1  0.500231  0.50025\n",
      "0  0.499769  0.49975\n",
      "Dur_subopt_CAT\n",
      "   Original  Working\n",
      "1  0.338231  0.33800\n",
      "2  0.332923  0.33325\n",
      "3  0.328846  0.32875\n"
     ]
    }
   ],
   "source": [
    "#Check distributions of columns between original and sampled datasets\n",
    "for i in strat_cols:\n",
    "    X=pd.DataFrame()\n",
    "    X['Original']=PERSON_DATA[i].value_counts() / orig_size\n",
    "    X['Working']=strat_work_set[i].value_counts() / working_size\n",
    "    print(i)\n",
    "    print(X)"
   ]
  },
  {
   "cell_type": "code",
   "execution_count": 73,
   "metadata": {},
   "outputs": [],
   "source": [
    "Sampled_SeroProtect=SeroProtect[work_index]\n",
    "\n",
    "# Export sampled PrEP trajectories matrix\n",
    "f= open(\"SeroProtect_4k.txt\",\"w+\")\n",
    "for i in range(len(Sampled_SeroProtect)):\n",
    "    for j in range(104):\n",
    "        if j == 103:\n",
    "            f.write(\"%s\\n\" % (Sampled_SeroProtect[i][j]))\n",
    "        else:\n",
    "            f.write(\"%s,\" % (Sampled_SeroProtect[i][j]))\n",
    "f.close()\n"
   ]
  },
  {
   "cell_type": "markdown",
   "metadata": {},
   "source": [
    "### Descriptive statistics: sampled dataset"
   ]
  },
  {
   "cell_type": "code",
   "execution_count": 76,
   "metadata": {
    "scrolled": true
   },
   "outputs": [],
   "source": [
    "Sampled_PMC=Sampled_SeroProtect[:,1:104]\n",
    "Sampled_SubProtect=Sampled_PMC<4/7\n",
    "\n",
    "CESS_START,CESS_END,PrEP_START,PrEP_END,CHECK_PrEP_Init, CHECK_PrEP_30d_2017 = intv_attr(Sampled_PMC)\n",
    "#Create list object: the duration of 1st, 2nd, 3rd PrEP protective intervals\n",
    "IntervalLen_1=[None]*len(Sampled_PMC)\n",
    "IntervalLen_2=[None]*len(Sampled_PMC)\n",
    "IntervalLen_3=[None]*len(Sampled_PMC)\n",
    "for i in range(len(Sampled_PMC)):\n",
    "    IntervalLen_1[i]=PrEP_END[i][0]-PrEP_START[i][0]\n",
    "    if(len(PrEP_START[i])>1):\n",
    "        IntervalLen_2[i]=PrEP_END[i][1]-PrEP_START[i][1]\n",
    "    if(len(PrEP_START[i])>2):\n",
    "        IntervalLen_3[i]=PrEP_END[i][2]-PrEP_START[i][2]    \n",
    "#Create list object: the total duration spent in sub-optimal sero-protection \n",
    "Total_SubP_Dur=np.array([sum(Sampled_SubProtect[i]) for i in range(len(Sampled_PMC))])\n",
    "#Create list object: the number of the number of sero-protection interval\n",
    "Num_Protect_Int=np.array([len(PrEP_START[i]) for i in range(len(Sampled_PMC))])"
   ]
  },
  {
   "cell_type": "code",
   "execution_count": 75,
   "metadata": {
    "scrolled": true
   },
   "outputs": [
    {
     "data": {
      "image/png": "[encoded data removed]",
      "text/plain": [
       "<Figure size 1008x720 with 4 Axes>"
      ]
     },
     "metadata": {
      "needs_background": "light"
     },
     "output_type": "display_data"
    }
   ],
   "source": [
    "#Figures\n",
    "os.chdir(pr.here(\"./Figures\"))\n",
    "os.getcwd()\n",
    "\n",
    "IntervalLen_2trim=[x for x in IntervalLen_2 if x is not None]\n",
    "IntervalLen_3trim=[x for x in IntervalLen_3 if x is not None]\n",
    "\n",
    "\n",
    "fig,ax =  plt.subplots(2,2,figsize=(14,10))\n",
    "fig.tight_layout(pad=5.5)\n",
    "\n",
    "#Distribution of the total duration spent in PrEP cessation (i.e., suboptimal sero-protection)\n",
    "ax1=sns.distplot(Total_SubP_Dur, ax=ax[0][0])\n",
    "ax1.set(xlabel=\"Weeks\", ylabel=\"Proportion\")\n",
    "ax1.set_title(\"Distribution of the total time under PrEP cessation \",fontweight='bold', y=1.025)\n",
    "\n",
    "#Distribution of 1st PrEP sero-protective intervals\n",
    "ax2=sns.distplot(IntervalLen_1, ax=ax[0][1])\n",
    "ax2.set(xlabel=\"Weeks\", ylabel=\"Proportion\")\n",
    "ax2.set_title(\"Distribution of the 1st PrEP sero-protection interval length \",fontweight='bold', y=1.025)\n",
    "\n",
    "#Distribution of 2nd PrEP sero-protective intervals\n",
    "ax3=sns.distplot(IntervalLen_2trim, ax=ax[1][0])\n",
    "ax3.set(xlabel=\"Weeks\", ylabel=\"Proportion\")\n",
    "ax3.set_title(\"Distribution of the 2nd PrEP sero-protection interval length \",fontweight='bold', y=1.025)\n",
    "\n",
    "#Distribution of 2nd PrEP sero-protective intervals\n",
    "ax4=sns.distplot(IntervalLen_3trim, ax=ax[1][1])\n",
    "ax4.set(xlabel=\"Weeks\", ylabel=\"Proportion\")\n",
    "ax4.set_title(\"Distribution of the 3rd PrEP sero-protection interval length \",fontweight='bold', y=1.025)\n",
    "\n",
    "plt.savefig('Distplot_sampled.png', bbox_inches='tight')"
   ]
  },
  {
   "cell_type": "code",
   "execution_count": 47,
   "metadata": {},
   "outputs": [
    {
     "data": {
      "text/html": [
       "<div>\n",
       "<style scoped>\n",
       "    .dataframe tbody tr th:only-of-type {\n",
       "        vertical-align: middle;\n",
       "    }\n",
       "\n",
       "    .dataframe tbody tr th {\n",
       "        vertical-align: top;\n",
       "    }\n",
       "\n",
       "    .dataframe thead th {\n",
       "        text-align: right;\n",
       "    }\n",
       "</style>\n",
       "<table border=\"1\" class=\"dataframe\">\n",
       "  <thead>\n",
       "    <tr style=\"text-align: right;\">\n",
       "      <th></th>\n",
       "      <th>Attribute</th>\n",
       "      <th>Mean</th>\n",
       "      <th>SD</th>\n",
       "      <th>Median</th>\n",
       "      <th>IQR:25%</th>\n",
       "      <th>IQR:75%</th>\n",
       "    </tr>\n",
       "  </thead>\n",
       "  <tbody>\n",
       "    <tr>\n",
       "      <th>0</th>\n",
       "      <td>Total time under sub-optimal PrEP protection</td>\n",
       "      <td>65.890000</td>\n",
       "      <td>26.293914</td>\n",
       "      <td>74.0</td>\n",
       "      <td>45.0</td>\n",
       "      <td>90.0</td>\n",
       "    </tr>\n",
       "    <tr>\n",
       "      <th>1</th>\n",
       "      <td>Length of 1st PrEP protective interval</td>\n",
       "      <td>26.436250</td>\n",
       "      <td>21.467229</td>\n",
       "      <td>17.0</td>\n",
       "      <td>11.0</td>\n",
       "      <td>35.0</td>\n",
       "    </tr>\n",
       "    <tr>\n",
       "      <th>2</th>\n",
       "      <td>Length of 2nd PrEP protective interval</td>\n",
       "      <td>22.651505</td>\n",
       "      <td>17.187161</td>\n",
       "      <td>17.0</td>\n",
       "      <td>10.0</td>\n",
       "      <td>32.0</td>\n",
       "    </tr>\n",
       "    <tr>\n",
       "      <th>3</th>\n",
       "      <td>Length of 3rd PrEP protective interval</td>\n",
       "      <td>16.182857</td>\n",
       "      <td>12.123684</td>\n",
       "      <td>13.0</td>\n",
       "      <td>8.0</td>\n",
       "      <td>21.0</td>\n",
       "    </tr>\n",
       "  </tbody>\n",
       "</table>\n",
       "</div>"
      ],
      "text/plain": [
       "                                      Attribute       Mean         SD  Median  \\\n",
       "0  Total time under sub-optimal PrEP protection  65.890000  26.293914    74.0   \n",
       "1        Length of 1st PrEP protective interval  26.436250  21.467229    17.0   \n",
       "2        Length of 2nd PrEP protective interval  22.651505  17.187161    17.0   \n",
       "3        Length of 3rd PrEP protective interval  16.182857  12.123684    13.0   \n",
       "\n",
       "   IQR:25%  IQR:75%  \n",
       "0     45.0     90.0  \n",
       "1     11.0     35.0  \n",
       "2     10.0     32.0  \n",
       "3      8.0     21.0  "
      ]
     },
     "execution_count": 47,
     "metadata": {},
     "output_type": "execute_result"
    }
   ],
   "source": [
    "Tab_Lens_sampled=pd.DataFrame({\"Attribute\":[\"Total time under sub-optimal PrEP protection\",\n",
    "                                          \"Length of 1st PrEP protective interval\",\n",
    "                                          \"Length of 2nd PrEP protective interval\",\n",
    "                                          \"Length of 3rd PrEP protective interval\"],    \n",
    "                              \"Mean\":[np.mean(Total_SubP_Dur),\n",
    "                                      np.mean(IntervalLen_1),\n",
    "                                      np.mean(IntervalLen_2trim),\n",
    "                                      np.mean(IntervalLen_3trim)],\n",
    "                              \"SD\":[np.std(Total_SubP_Dur),\n",
    "                                    np.std(IntervalLen_1),\n",
    "                                    np.std(IntervalLen_2trim),\n",
    "                                    np.std(IntervalLen_3trim)],\n",
    "                              \"Median\":[np.quantile(Total_SubP_Dur, 0.5),\n",
    "                                        np.quantile(IntervalLen_1, 0.5),\n",
    "                                        np.quantile(IntervalLen_2trim, 0.5),\n",
    "                                        np.quantile(IntervalLen_3trim, 0.5)],\n",
    "                              \"IQR:25%\":[np.quantile(Total_SubP_Dur, 0.25),\n",
    "                                        np.quantile(IntervalLen_1, 0.25),\n",
    "                                        np.quantile(IntervalLen_2trim, 0.25),\n",
    "                                        np.quantile(IntervalLen_3trim, 0.25)],\n",
    "                              \"IQR:75%\":[np.quantile(Total_SubP_Dur, 0.75),\n",
    "                                        np.quantile(IntervalLen_1, 0.75),\n",
    "                                        np.quantile(IntervalLen_2trim, 0.75),\n",
    "                                        np.quantile(IntervalLen_3trim, 0.75)]\n",
    "                             })\n",
    "\n",
    "Tab_Lens_sampled"
   ]
  },
  {
   "cell_type": "code",
   "execution_count": 48,
   "metadata": {},
   "outputs": [
    {
     "data": {
      "text/html": [
       "<div>\n",
       "<style scoped>\n",
       "    .dataframe tbody tr th:only-of-type {\n",
       "        vertical-align: middle;\n",
       "    }\n",
       "\n",
       "    .dataframe tbody tr th {\n",
       "        vertical-align: top;\n",
       "    }\n",
       "\n",
       "    .dataframe thead th {\n",
       "        text-align: right;\n",
       "    }\n",
       "</style>\n",
       "<table border=\"1\" class=\"dataframe\">\n",
       "  <thead>\n",
       "    <tr style=\"text-align: right;\">\n",
       "      <th></th>\n",
       "      <th>Number of PrEP protective interval</th>\n",
       "      <th>N</th>\n",
       "      <th>%</th>\n",
       "    </tr>\n",
       "  </thead>\n",
       "  <tbody>\n",
       "    <tr>\n",
       "      <th>0</th>\n",
       "      <td>1</td>\n",
       "      <td>2571</td>\n",
       "      <td>64.3</td>\n",
       "    </tr>\n",
       "    <tr>\n",
       "      <th>1</th>\n",
       "      <td>2</td>\n",
       "      <td>904</td>\n",
       "      <td>22.6</td>\n",
       "    </tr>\n",
       "    <tr>\n",
       "      <th>2</th>\n",
       "      <td>3</td>\n",
       "      <td>394</td>\n",
       "      <td>9.8</td>\n",
       "    </tr>\n",
       "    <tr>\n",
       "      <th>3</th>\n",
       "      <td>4</td>\n",
       "      <td>113</td>\n",
       "      <td>2.8</td>\n",
       "    </tr>\n",
       "    <tr>\n",
       "      <th>4</th>\n",
       "      <td>5</td>\n",
       "      <td>16</td>\n",
       "      <td>0.4</td>\n",
       "    </tr>\n",
       "    <tr>\n",
       "      <th>5</th>\n",
       "      <td>6</td>\n",
       "      <td>2</td>\n",
       "      <td>0.0</td>\n",
       "    </tr>\n",
       "  </tbody>\n",
       "</table>\n",
       "</div>"
      ],
      "text/plain": [
       "   Number of PrEP protective interval     N     %\n",
       "0                                   1  2571  64.3\n",
       "1                                   2   904  22.6\n",
       "2                                   3   394   9.8\n",
       "3                                   4   113   2.8\n",
       "4                                   5    16   0.4\n",
       "5                                   6     2   0.0"
      ]
     },
     "execution_count": 48,
     "metadata": {},
     "output_type": "execute_result"
    }
   ],
   "source": [
    "#Categorical distribution of number of PrEP prescription interval\n",
    "freq=dict(cl.Counter(Num_Protect_Int))\n",
    "Tab_ProtectInt_sampled = pd.DataFrame(list(freq.items()),columns = ['Number of PrEP protective interval','N']).sort_values(by=['Number of PrEP protective interval']) \n",
    "Tab_ProtectInt_sampled['%']=np.around(Tab_ProtectInt_sampled['N']/len(Num_Protect_Int)*100,1)\n",
    "Tab_ProtectInt_sampled"
   ]
  },
  {
   "cell_type": "code",
   "execution_count": 49,
   "metadata": {},
   "outputs": [],
   "source": [
    "#Export descriptive statistics (original data)\n",
    "os.chdir(pr.here(\"./Export\"))\n",
    "Descript_sampled={\"Length_attributes\":Tab_Lens_sampled, \"Num_Protect_Intervals\": Tab_ProtectInt_sampled}\n",
    "import pickle\n",
    "pickle_out=open(\"Descript_sampled\",\"wb\")\n",
    "pickle.dump(Descript_sampled,pickle_out)\n",
    "pickle_out.close()"
   ]
  },
  {
   "cell_type": "code",
   "execution_count": null,
   "metadata": {},
   "outputs": [],
   "source": []
  }
 ],
 "metadata": {
  "kernelspec": {
   "display_name": "Python 3",
   "language": "python",
   "name": "python3"
  },
  "language_info": {
   "codemirror_mode": {
    "name": "ipython",
    "version": 3
   },
   "file_extension": ".py",
   "mimetype": "text/x-python",
   "name": "python",
   "nbconvert_exporter": "python",
   "pygments_lexer": "ipython3",
   "version": "3.8.3"
  }
 },
 "nbformat": 4,
 "nbformat_minor": 4
}
