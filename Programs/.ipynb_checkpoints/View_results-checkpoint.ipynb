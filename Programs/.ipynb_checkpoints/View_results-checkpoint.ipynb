{
 "cells": [
  {
   "cell_type": "code",
   "execution_count": 32,
   "metadata": {},
   "outputs": [],
   "source": [
    "import numpy as np\n",
    "import sys, os, shutil\n",
    "import pandas as pd\n",
    "import collections as cl\n",
    "import itertools as it\n",
    "import timeit\n",
    "import datetime as dt\n",
    "import matplotlib.pyplot as plt\n",
    "import matplotlib\n",
    "import copy as cp\n",
    "import pyprojroot as pr\n",
    "import seaborn as sns"
   ]
  },
  {
   "cell_type": "code",
   "execution_count": 40,
   "metadata": {},
   "outputs": [
    {
     "ename": "ImportError",
     "evalue": "DLL load failed while importing _qhull: The specified module could not be found.",
     "output_type": "error",
     "traceback": [
      "\u001b[1;31m---------------------------------------------------------------------------\u001b[0m",
      "\u001b[1;31mImportError\u001b[0m                               Traceback (most recent call last)",
      "\u001b[1;32m<ipython-input-40-4e6edd93edbf>\u001b[0m in \u001b[0;36m<module>\u001b[1;34m\u001b[0m\n\u001b[1;32m----> 1\u001b[1;33m \u001b[1;32mimport\u001b[0m \u001b[0mscipy\u001b[0m\u001b[1;33m.\u001b[0m\u001b[0mstats\u001b[0m \u001b[1;32mas\u001b[0m \u001b[0mscs\u001b[0m\u001b[1;33m\u001b[0m\u001b[1;33m\u001b[0m\u001b[0m\n\u001b[0m\u001b[0;32m      2\u001b[0m \u001b[1;32mimport\u001b[0m \u001b[0msklearn\u001b[0m \u001b[1;32mas\u001b[0m \u001b[0msklearn\u001b[0m\u001b[1;33m\u001b[0m\u001b[1;33m\u001b[0m\u001b[0m\n",
      "\u001b[1;32m~\\Anaconda3\\lib\\site-packages\\scipy\\stats\\__init__.py\u001b[0m in \u001b[0;36m<module>\u001b[1;34m\u001b[0m\n\u001b[0;32m    483\u001b[0m from ._warnings_errors import (ConstantInputWarning, NearConstantInputWarning,\n\u001b[0;32m    484\u001b[0m                                DegenerateDataWarning, FitError)\n\u001b[1;32m--> 485\u001b[1;33m \u001b[1;32mfrom\u001b[0m \u001b[1;33m.\u001b[0m\u001b[0m_stats_py\u001b[0m \u001b[1;32mimport\u001b[0m \u001b[1;33m*\u001b[0m\u001b[1;33m\u001b[0m\u001b[1;33m\u001b[0m\u001b[0m\n\u001b[0m\u001b[0;32m    486\u001b[0m \u001b[1;32mfrom\u001b[0m \u001b[1;33m.\u001b[0m\u001b[0m_variation\u001b[0m \u001b[1;32mimport\u001b[0m \u001b[0mvariation\u001b[0m\u001b[1;33m\u001b[0m\u001b[1;33m\u001b[0m\u001b[0m\n\u001b[0;32m    487\u001b[0m \u001b[1;32mfrom\u001b[0m \u001b[1;33m.\u001b[0m\u001b[0mdistributions\u001b[0m \u001b[1;32mimport\u001b[0m \u001b[1;33m*\u001b[0m\u001b[1;33m\u001b[0m\u001b[1;33m\u001b[0m\u001b[0m\n",
      "\u001b[1;32m~\\Anaconda3\\lib\\site-packages\\scipy\\stats\\_stats_py.py\u001b[0m in \u001b[0;36m<module>\u001b[1;34m\u001b[0m\n\u001b[0;32m     37\u001b[0m \u001b[1;32mfrom\u001b[0m \u001b[0mnumpy\u001b[0m\u001b[1;33m.\u001b[0m\u001b[0mtesting\u001b[0m \u001b[1;32mimport\u001b[0m \u001b[0msuppress_warnings\u001b[0m\u001b[1;33m\u001b[0m\u001b[1;33m\u001b[0m\u001b[0m\n\u001b[0;32m     38\u001b[0m \u001b[1;33m\u001b[0m\u001b[0m\n\u001b[1;32m---> 39\u001b[1;33m \u001b[1;32mfrom\u001b[0m \u001b[0mscipy\u001b[0m\u001b[1;33m.\u001b[0m\u001b[0mspatial\u001b[0m\u001b[1;33m.\u001b[0m\u001b[0mdistance\u001b[0m \u001b[1;32mimport\u001b[0m \u001b[0mcdist\u001b[0m\u001b[1;33m\u001b[0m\u001b[1;33m\u001b[0m\u001b[0m\n\u001b[0m\u001b[0;32m     40\u001b[0m \u001b[1;32mfrom\u001b[0m \u001b[0mscipy\u001b[0m\u001b[1;33m.\u001b[0m\u001b[0mndimage\u001b[0m \u001b[1;32mimport\u001b[0m \u001b[0m_measurements\u001b[0m\u001b[1;33m\u001b[0m\u001b[1;33m\u001b[0m\u001b[0m\n\u001b[0;32m     41\u001b[0m from scipy._lib._util import (check_random_state, MapWrapper,\n",
      "\u001b[1;32m~\\Anaconda3\\lib\\site-packages\\scipy\\spatial\\__init__.py\u001b[0m in \u001b[0;36m<module>\u001b[1;34m\u001b[0m\n\u001b[0;32m    105\u001b[0m \u001b[1;32mfrom\u001b[0m \u001b[1;33m.\u001b[0m\u001b[0m_kdtree\u001b[0m \u001b[1;32mimport\u001b[0m \u001b[1;33m*\u001b[0m\u001b[1;33m\u001b[0m\u001b[1;33m\u001b[0m\u001b[0m\n\u001b[0;32m    106\u001b[0m \u001b[1;32mfrom\u001b[0m \u001b[1;33m.\u001b[0m\u001b[0m_ckdtree\u001b[0m \u001b[1;32mimport\u001b[0m \u001b[1;33m*\u001b[0m\u001b[1;33m\u001b[0m\u001b[1;33m\u001b[0m\u001b[0m\n\u001b[1;32m--> 107\u001b[1;33m \u001b[1;32mfrom\u001b[0m \u001b[1;33m.\u001b[0m\u001b[0m_qhull\u001b[0m \u001b[1;32mimport\u001b[0m \u001b[1;33m*\u001b[0m\u001b[1;33m\u001b[0m\u001b[1;33m\u001b[0m\u001b[0m\n\u001b[0m\u001b[0;32m    108\u001b[0m \u001b[1;32mfrom\u001b[0m \u001b[1;33m.\u001b[0m\u001b[0m_spherical_voronoi\u001b[0m \u001b[1;32mimport\u001b[0m \u001b[0mSphericalVoronoi\u001b[0m\u001b[1;33m\u001b[0m\u001b[1;33m\u001b[0m\u001b[0m\n\u001b[0;32m    109\u001b[0m \u001b[1;32mfrom\u001b[0m \u001b[1;33m.\u001b[0m\u001b[0m_plotutils\u001b[0m \u001b[1;32mimport\u001b[0m \u001b[1;33m*\u001b[0m\u001b[1;33m\u001b[0m\u001b[1;33m\u001b[0m\u001b[0m\n",
      "\u001b[1;31mImportError\u001b[0m: DLL load failed while importing _qhull: The specified module could not be found."
     ]
    }
   ],
   "source": [
    "import scipy.stats as scs\n",
    "import sklearn as sklearn"
   ]
  },
  {
   "cell_type": "code",
   "execution_count": 2,
   "metadata": {},
   "outputs": [
    {
     "data": {
      "text/plain": [
       "'C:\\\\Users\\\\yche465\\\\Desktop\\\\AIM 1\\\\Codes\\\\PrEP-Traj-Clustering\\\\Export'"
      ]
     },
     "execution_count": 2,
     "metadata": {},
     "output_type": "execute_result"
    }
   ],
   "source": [
    "#Change directory\n",
    "os.chdir(pr.here(\"./Export\"))\n",
    "os.getcwd()"
   ]
  },
  {
   "cell_type": "code",
   "execution_count": 37,
   "metadata": {},
   "outputs": [
    {
     "name": "stdout",
     "output_type": "stream",
     "text": [
      "Collecting scipy\n",
      "  Using cached scipy-1.10.0-cp38-cp38-win_amd64.whl (42.2 MB)\n",
      "Collecting numpy<1.27.0,>=1.19.5\n",
      "  Using cached numpy-1.24.1-cp38-cp38-win_amd64.whl (14.9 MB)\n",
      "Installing collected packages: numpy, scipy\n",
      "  Attempting uninstall: numpy\n",
      "    Found existing installation: numpy 1.24.1\n",
      "    Uninstalling numpy-1.24.1:\n",
      "      Successfully uninstalled numpy-1.24.1\n"
     ]
    },
    {
     "name": "stderr",
     "output_type": "stream",
     "text": [
      "ERROR: Could not install packages due to an EnvironmentError: [WinError 5] Access is denied: 'C:\\\\Users\\\\yche465\\\\Anaconda3\\\\Lib\\\\site-packages\\\\~-mpy\\\\.libs\\\\libopenblas64__v0.3.21-gcc_10_3_0.dll'\n",
      "Consider using the `--user` option or check the permissions.\n",
      "\n"
     ]
    }
   ],
   "source": [
    "!pip install scipy --upgrade --force"
   ]
  },
  {
   "cell_type": "code",
   "execution_count": 1,
   "metadata": {},
   "outputs": [
    {
     "name": "stdout",
     "output_type": "stream",
     "text": [
      "Package                       Version             Latest      Type\n",
      "----------------------------- ------------------- ----------- -----\n",
      "alabaster                     0.7.12              0.7.13      wheel\n",
      "asn1crypto                    1.3.0               1.5.1       wheel\n",
      "astroid                       2.4.2               2.13.2      wheel\n",
      "astropy                       4.0.1.post1         5.2.1       wheel\n",
      "atomicwrites                  1.4.0               1.4.1       sdist\n",
      "attrs                         19.3.0              22.2.0      wheel\n",
      "autopep8                      1.5.3               2.0.1       wheel\n",
      "Babel                         2.8.0               2.11.0      wheel\n",
      "bcrypt                        3.1.7               4.0.1       wheel\n",
      "beautifulsoup4                4.9.1               4.11.1      wheel\n",
      "bitarray                      1.4.0               2.6.2       wheel\n",
      "bleach                        3.1.5               5.0.1       wheel\n",
      "bokeh                         2.1.1               3.0.3       wheel\n",
      "Bottleneck                    1.3.2               1.3.6       wheel\n",
      "cachetools                    4.1.1               5.2.1       wheel\n",
      "certifi                       2020.6.20           2022.12.7   wheel\n",
      "cffi                          1.14.0              1.15.1      wheel\n",
      "chardet                       3.0.4               5.1.0       wheel\n",
      "click                         7.1.2               8.1.3       wheel\n",
      "cloudpickle                   1.5.0               2.2.1       wheel\n",
      "colorama                      0.4.3               0.4.6       wheel\n",
      "colorcet                      3.0.0               3.0.1       wheel\n",
      "comtypes                      1.1.7               1.1.14      wheel\n",
      "contextlib2                   0.6.0.post1         21.6.0      wheel\n",
      "cryptography                  2.9.2               39.0.0      wheel\n",
      "cycler                        0.10.0              0.11.0      wheel\n",
      "Cython                        0.29.21             0.29.33     wheel\n",
      "cytoolz                       0.10.1              0.12.1      wheel\n",
      "dask                          2.20.0              2023.1.0    wheel\n",
      "datashader                    0.10.0              0.14.3      wheel\n",
      "decorator                     4.4.2               5.1.1       wheel\n",
      "defusedxml                    0.6.0               0.7.1       wheel\n",
      "distributed                   2.20.0              2023.1.0    wheel\n",
      "docutils                      0.16                0.19        wheel\n",
      "entrypoints                   0.3                 0.4         wheel\n",
      "et-xmlfile                    1.0.1               1.1.0       wheel\n",
      "filelock                      3.0.12              3.9.0       wheel\n",
      "flake8                        3.8.3               6.0.0       wheel\n",
      "Flask                         1.1.2               2.2.2       wheel\n",
      "fsspec                        0.7.4               2023.1.0    wheel\n",
      "future                        0.18.2              0.18.3      sdist\n",
      "gevent                        20.6.2              22.10.2     wheel\n",
      "gmpy2                         2.0.8               2.1.5       wheel\n",
      "google-api-core               1.23.0              2.11.0      wheel\n",
      "google-api-python-client      1.12.5              2.73.0      wheel\n",
      "google-auth                   1.23.0              2.16.0      wheel\n",
      "google-auth-httplib2          0.0.4               0.1.0       wheel\n",
      "googleapis-common-protos      1.52.0              1.58.0      wheel\n",
      "googlemaps                    4.4.2               4.7.3       sdist\n",
      "greenlet                      0.4.16              2.0.1       wheel\n",
      "h5py                          2.10.0              3.7.0       wheel\n",
      "hdbscan                       0.8.27              0.8.29      sdist\n",
      "holoviews                     1.14.3              1.15.4      wheel\n",
      "httplib2                      0.18.1              0.21.0      wheel\n",
      "idna                          2.10                3.4         wheel\n",
      "imageio                       2.9.0               2.24.0      wheel\n",
      "imagesize                     1.2.0               1.4.1       wheel\n",
      "importlib-metadata            1.7.0               6.0.0       wheel\n",
      "intervaltree                  3.0.2               3.1.0       sdist\n",
      "ipykernel                     5.3.2               6.20.2      wheel\n",
      "ipython                       7.16.1              8.8.0       wheel\n",
      "ipywidgets                    7.5.1               8.0.4       wheel\n",
      "isort                         4.3.21              5.11.4      wheel\n",
      "itsdangerous                  1.1.0               2.1.2       wheel\n",
      "jedi                          0.17.1              0.18.2      wheel\n",
      "Jinja2                        2.11.2              3.1.2       wheel\n",
      "joblib                        0.16.0              1.2.0       wheel\n",
      "json5                         0.9.5               0.9.11      wheel\n",
      "jsonschema                    3.2.0               4.17.3      wheel\n",
      "jupyter-client                6.1.6               7.4.9       wheel\n",
      "jupyter-console               6.1.0               6.4.4       wheel\n",
      "jupyter-core                  4.6.3               5.1.3       wheel\n",
      "jupyterlab                    2.1.5               3.5.2       wheel\n",
      "jupyterlab-server             1.2.0               2.19.0      wheel\n",
      "keyring                       21.2.1              23.13.1     wheel\n",
      "kiwisolver                    1.2.0               1.4.4       wheel\n",
      "lazy-object-proxy             1.4.3               1.9.0       wheel\n",
      "libarchive-c                  2.9                 4.0         wheel\n",
      "llvmlite                      0.33.0+1.g022ab0f   0.39.1      wheel\n",
      "locket                        0.2.0               1.0.0       wheel\n",
      "lxml                          4.5.2               4.9.2       wheel\n",
      "Markdown                      3.3.4               3.4.1       wheel\n",
      "MarkupSafe                    1.1.1               2.1.2       wheel\n",
      "matplotlib                    3.2.2               3.6.3       wheel\n",
      "mccabe                        0.6.1               0.7.0       wheel\n",
      "mistune                       0.8.4               2.0.4       wheel\n",
      "mkl-fft                       1.1.0               1.3.1       wheel\n",
      "mkl-random                    1.1.1               1.2.2       wheel\n",
      "mkl-service                   2.3.0               2.4.0       wheel\n",
      "mlxtend                       0.18.0              0.21.0      wheel\n",
      "mock                          4.0.2               5.0.1       wheel\n",
      "more-itertools                8.4.0               9.0.0       wheel\n",
      "mpl-axes-aligner              1.1                 1.3         sdist\n",
      "mpmath                        1.1.0               1.2.1       wheel\n",
      "msgpack                       1.0.0               1.0.4       wheel\n",
      "nbconvert                     5.6.1               7.2.8       wheel\n",
      "nbformat                      5.0.7               5.7.3       wheel\n",
      "networkx                      2.4                 3.0         wheel\n",
      "nltk                          3.5                 3.8.1       wheel\n",
      "notebook                      6.0.3               6.5.2       wheel\n",
      "numba                         0.50.1              0.56.4      wheel\n",
      "numexpr                       2.7.1               2.8.4       wheel\n",
      "numpydoc                      1.1.0               1.5.0       wheel\n",
      "openpyxl                      3.0.4               3.0.10      wheel\n",
      "packaging                     20.4                23.0        wheel\n",
      "pandas                        1.0.5               1.5.3       wheel\n",
      "pandocfilters                 1.4.2               1.5.0       wheel\n",
      "panel                         0.9.7               0.14.2      wheel\n",
      "param                         1.12.0              1.12.3      wheel\n",
      "paramiko                      2.7.1               2.12.0      wheel\n",
      "parso                         0.7.0               0.8.3       wheel\n",
      "partd                         1.1.0               1.3.0       wheel\n",
      "path                          13.1.0              16.6.0      wheel\n",
      "pathlib2                      2.3.5               2.3.7.post1 wheel\n",
      "patsy                         0.5.1               0.5.3       wheel\n",
      "Pillow                        7.2.0               9.4.0       wheel\n",
      "pip                           20.1.1              22.3.1      wheel\n",
      "pkginfo                       1.5.0.1             1.9.6       wheel\n",
      "pluggy                        0.13.1              1.0.0       wheel\n",
      "prometheus-client             0.8.0               0.15.0      wheel\n",
      "prompt-toolkit                3.0.5               3.0.36      wheel\n",
      "protobuf                      3.13.0              4.21.12     wheel\n",
      "psutil                        5.7.0               5.9.4       wheel\n",
      "py                            1.9.0               1.11.0      wheel\n",
      "pycodestyle                   2.6.0               2.10.0      wheel\n"
     ]
    },
    {
     "name": "stdout",
     "output_type": "stream",
     "text": [
      "pycparser                     2.20                2.21        wheel\n",
      "pycurl                        7.43.0.5            7.45.2      sdist\n",
      "pydocstyle                    5.0.2               6.3.0       wheel\n",
      "pyflakes                      2.2.0               3.0.1       wheel\n",
      "Pygments                      2.6.1               2.14.0      wheel\n",
      "pylint                        2.5.3               2.15.10     wheel\n",
      "PyNaCl                        1.4.0               1.5.0       wheel\n",
      "pyodbc                        4.0.0-unsupported   4.0.35      wheel\n",
      "pyOpenSSL                     19.1.0              23.0.0      wheel\n",
      "pyparsing                     2.4.7               3.0.9       wheel\n",
      "pyrsistent                    0.16.0              0.19.3      wheel\n",
      "pytest                        5.4.3               7.2.1       wheel\n",
      "python-dateutil               2.8.1               2.8.2       wheel\n",
      "python-jsonrpc-server         0.3.4               0.4.0       wheel\n",
      "python-language-server        0.34.1              0.36.2      wheel\n",
      "pytz                          2020.1              2022.7.1    wheel\n",
      "pyviz-comms                   2.0.2               2.2.1       wheel\n",
      "PyWavelets                    1.1.1               1.4.1       wheel\n",
      "pywin32                       227                 305         wheel\n",
      "pywinpty                      0.5.7               2.0.10      wheel\n",
      "PyYAML                        5.3.1               6.0         wheel\n",
      "pyzmq                         19.0.1              25.0.0      wheel\n",
      "QDarkStyle                    2.8.1               3.1         wheel\n",
      "QtAwesome                     0.7.2               1.2.2       wheel\n",
      "qtconsole                     4.7.5               5.4.0       wheel\n",
      "QtPy                          1.9.0               2.3.0       wheel\n",
      "regex                         2020.6.8            2022.10.31  wheel\n",
      "requests                      2.24.0              2.28.2      wheel\n",
      "rope                          0.17.0              1.7.0       wheel\n",
      "rsa                           4.6                 4.9         wheel\n",
      "Rtree                         0.9.4               1.0.1       wheel\n",
      "ruamel-yaml                   0.15.87             0.17.21     wheel\n",
      "scikit-image                  0.16.2              0.19.3      wheel\n",
      "scikit-learn                  0.23.1              1.2.0       wheel\n",
      "scipy                         1.5.0               1.10.0      wheel\n",
      "seaborn                       0.10.1              0.12.2      wheel\n",
      "Send2Trash                    1.5.0               1.8.0       wheel\n",
      "setuptools                    49.2.0.post20200714 66.1.0      wheel\n",
      "singledispatch                3.4.0.3             4.0.0       wheel\n",
      "sip                           4.19.13             6.7.5       wheel\n",
      "six                           1.15.0              1.16.0      wheel\n",
      "snowballstemmer               2.0.0               2.2.0       wheel\n",
      "sortedcollections             1.2.1               2.1.0       wheel\n",
      "sortedcontainers              2.2.2               2.4.0       wheel\n",
      "soupsieve                     2.0.1               2.3.2.post1 wheel\n",
      "Sphinx                        3.1.2               6.1.3       wheel\n",
      "sphinxcontrib-applehelp       1.0.2               1.0.3       wheel\n",
      "sphinxcontrib-htmlhelp        1.0.3               2.0.0       wheel\n",
      "sphinxcontrib-serializinghtml 1.1.4               1.1.5       wheel\n",
      "sphinxcontrib-websupport      1.2.3               1.2.4       wheel\n",
      "spyder                        4.1.4               5.4.2       wheel\n",
      "spyder-kernels                1.9.2               2.4.2       wheel\n",
      "SQLAlchemy                    1.3.18              1.4.46      wheel\n",
      "statsmodels                   0.11.1              0.13.5      wheel\n",
      "sympy                         1.6.1               1.11.1      wheel\n",
      "tables                        3.6.1               3.8.0       wheel\n",
      "tblib                         1.6.0               1.7.0       wheel\n",
      "tensorly                      0.5.1               0.8.0       wheel\n",
      "terminado                     0.8.3               0.17.1      wheel\n",
      "testpath                      0.4.4               0.6.0       wheel\n",
      "threadpoolctl                 2.1.0               3.1.0       wheel\n",
      "toml                          0.10.1              0.10.2      wheel\n",
      "toolz                         0.10.0              0.12.0      wheel\n",
      "torch                         1.10.1              1.13.1      wheel\n",
      "tornado                       6.0.4               6.2         wheel\n",
      "tqdm                          4.47.0              4.64.1      wheel\n",
      "traitlets                     4.3.3               5.8.1       wheel\n",
      "tslearn                       0.5.0.5             0.5.3.2     wheel\n",
      "typing-extensions             3.7.4.2             4.4.0       wheel\n",
      "ujson                         1.35                5.7.0       wheel\n",
      "umap-learn                    0.4.6               0.5.3       sdist\n",
      "uritemplate                   3.0.1               4.1.1       wheel\n",
      "urllib3                       1.25.9              1.26.14     wheel\n",
      "validclust                    0.1.0               0.1.1       wheel\n",
      "watchdog                      0.10.3              2.2.1       wheel\n",
      "wcwidth                       0.2.5               0.2.6       wheel\n",
      "Werkzeug                      1.0.1               2.2.2       wheel\n",
      "wheel                         0.34.2              0.38.4      wheel\n",
      "widgetsnbextension            3.5.1               4.0.5       wheel\n",
      "wrapt                         1.11.2              1.14.1      wheel\n",
      "xarray                        0.17.0              2023.1.0    wheel\n",
      "xlrd                          1.2.0               2.0.1       wheel\n",
      "XlsxWriter                    1.2.9               3.0.7       wheel\n",
      "xlwings                       0.19.5              0.28.8      wheel\n",
      "xmltodict                     0.12.0              0.13.0      wheel\n",
      "yapf                          0.30.0              0.32.0      wheel\n",
      "zict                          2.0.0               2.2.0       wheel\n",
      "zipp                          3.1.0               3.11.0      wheel\n",
      "zope.event                    4.4                 4.6         wheel\n",
      "zope.interface                4.7.1               5.5.2       wheel\n"
     ]
    }
   ],
   "source": [
    "!pip list -o"
   ]
  },
  {
   "cell_type": "code",
   "execution_count": 31,
   "metadata": {},
   "outputs": [
    {
     "name": "stdout",
     "output_type": "stream",
     "text": [
      "Collecting sklearn\n",
      "  Downloading sklearn-0.0.post1.tar.gz (3.6 kB)\n",
      "Building wheels for collected packages: sklearn\n",
      "  Building wheel for sklearn (setup.py): started\n",
      "  Building wheel for sklearn (setup.py): finished with status 'done'\n",
      "  Created wheel for sklearn: filename=sklearn-0.0.post1-py3-none-any.whl size=2349 sha256=0b9fe4c48525614a6fe517999d1a1967907e3aac1977c322c4fcd1ceb9091e43\n",
      "  Stored in directory: c:\\users\\yche465\\appdata\\local\\pip\\cache\\wheels\\14\\25\\f7\\1cc0956978ae479e75140219088deb7a36f60459df242b1a72\n",
      "Successfully built sklearn\n",
      "Installing collected packages: sklearn\n",
      "Successfully installed sklearn-0.0.post1\n"
     ]
    }
   ],
   "source": [
    "!pip install -U sklearn"
   ]
  },
  {
   "cell_type": "code",
   "execution_count": 3,
   "metadata": {},
   "outputs": [
    {
     "ename": "AttributeError",
     "evalue": "Can't get attribute '_unpickle_block' on <module 'pandas._libs.internals' from 'C:\\\\Users\\\\yche465\\\\Anaconda3\\\\lib\\\\site-packages\\\\pandas\\\\_libs\\\\internals.cp38-win_amd64.pyd'>",
     "output_type": "error",
     "traceback": [
      "\u001b[1;31m---------------------------------------------------------------------------\u001b[0m",
      "\u001b[1;31mAttributeError\u001b[0m                            Traceback (most recent call last)",
      "\u001b[1;32m<ipython-input-3-5934dc76dd54>\u001b[0m in \u001b[0;36m<module>\u001b[1;34m\u001b[0m\n\u001b[0;32m      2\u001b[0m \u001b[1;32mimport\u001b[0m \u001b[0mpickle\u001b[0m\u001b[1;33m\u001b[0m\u001b[1;33m\u001b[0m\u001b[0m\n\u001b[0;32m      3\u001b[0m \u001b[0mpickle_in\u001b[0m\u001b[1;33m=\u001b[0m\u001b[0mopen\u001b[0m\u001b[1;33m(\u001b[0m\u001b[1;34m\"Descript_orig\"\u001b[0m\u001b[1;33m,\u001b[0m\u001b[1;34m\"rb\"\u001b[0m\u001b[1;33m)\u001b[0m\u001b[1;33m\u001b[0m\u001b[1;33m\u001b[0m\u001b[0m\n\u001b[1;32m----> 4\u001b[1;33m \u001b[0mloadobj\u001b[0m\u001b[1;33m=\u001b[0m\u001b[0mpickle\u001b[0m\u001b[1;33m.\u001b[0m\u001b[0mload\u001b[0m\u001b[1;33m(\u001b[0m\u001b[0mpickle_in\u001b[0m\u001b[1;33m)\u001b[0m\u001b[1;33m\u001b[0m\u001b[1;33m\u001b[0m\u001b[0m\n\u001b[0m\u001b[0;32m      5\u001b[0m \u001b[0mDescript_orig\u001b[0m\u001b[1;33m=\u001b[0m\u001b[0mloadobj\u001b[0m\u001b[1;33m\u001b[0m\u001b[1;33m\u001b[0m\u001b[0m\n",
      "\u001b[1;31mAttributeError\u001b[0m: Can't get attribute '_unpickle_block' on <module 'pandas._libs.internals' from 'C:\\\\Users\\\\yche465\\\\Anaconda3\\\\lib\\\\site-packages\\\\pandas\\\\_libs\\\\internals.cp38-win_amd64.pyd'>"
     ]
    }
   ],
   "source": [
    "#load descriptive statistics \n",
    "import pickle\n",
    "pickle_in=open(\"Descript_orig\",\"rb\")\n",
    "loadobj=pickle.load(pickle_in)\n",
    "Descript_orig=loadobj"
   ]
  }
 ],
 "metadata": {
  "kernelspec": {
   "display_name": "Python 3",
   "language": "python",
   "name": "python3"
  },
  "language_info": {
   "codemirror_mode": {
    "name": "ipython",
    "version": 3
   },
   "file_extension": ".py",
   "mimetype": "text/x-python",
   "name": "python",
   "nbconvert_exporter": "python",
   "pygments_lexer": "ipython3",
   "version": "3.8.3"
  }
 },
 "nbformat": 4,
 "nbformat_minor": 4
}
