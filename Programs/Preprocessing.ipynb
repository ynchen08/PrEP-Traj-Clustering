{
 "cells": [
  {
   "cell_type": "code",
   "execution_count": 83,
   "metadata": {},
   "outputs": [
    {
     "data": {
      "text/plain": [
       "'C:\\\\Users\\\\yche465\\\\Desktop\\\\AIM 1\\\\Codes\\\\PrEP-Traj-Clustering'"
      ]
     },
     "execution_count": 83,
     "metadata": {},
     "output_type": "execute_result"
    }
   ],
   "source": [
    "import numpy as np\n",
    "import sys, os, shutil\n",
    "import pandas as pd\n",
    "import collections as cl\n",
    "import itertools as it\n",
    "import timeit\n",
    "import pandas as pd\n",
    "import datetime as dt\n",
    "import matplotlib.pyplot as plt\n",
    "import matplotlib\n",
    "import seaborn as sns\n",
    "import copy as cp\n",
    "\n",
    "#Change directory\n",
    "os.chdir(\"C:/Users/yche465/Desktop/AIM 1/Codes/PrEP-Traj-Clustering\")\n",
    "os.getcwd()\n",
    "\n"
   ]
  },
  {
   "cell_type": "markdown",
   "metadata": {},
   "source": [
    "### Convert raw data to proportion of moving coverage (PMC) time series"
   ]
  },
  {
   "cell_type": "code",
   "execution_count": 84,
   "metadata": {},
   "outputs": [],
   "source": [
    "#Import raw dataset\n",
    "data=pd.read_csv(\"syndata_3000.csv\").astype({'ID':'int'})\n"
   ]
  },
  {
   "cell_type": "code",
   "execution_count": 85,
   "metadata": {
    "scrolled": true
   },
   "outputs": [
    {
     "data": {
      "text/html": [
       "<div>\n",
       "<style scoped>\n",
       "    .dataframe tbody tr th:only-of-type {\n",
       "        vertical-align: middle;\n",
       "    }\n",
       "\n",
       "    .dataframe tbody tr th {\n",
       "        vertical-align: top;\n",
       "    }\n",
       "\n",
       "    .dataframe thead th {\n",
       "        text-align: right;\n",
       "    }\n",
       "</style>\n",
       "<table border=\"1\" class=\"dataframe\">\n",
       "  <thead>\n",
       "    <tr style=\"text-align: right;\">\n",
       "      <th></th>\n",
       "      <th>ID</th>\n",
       "      <th>PrEP_Start</th>\n",
       "      <th>PrEP_End</th>\n",
       "    </tr>\n",
       "  </thead>\n",
       "  <tbody>\n",
       "    <tr>\n",
       "      <th>1</th>\n",
       "      <td>351</td>\n",
       "      <td>10/13/2023</td>\n",
       "      <td>12/18/2024</td>\n",
       "    </tr>\n",
       "    <tr>\n",
       "      <th>2</th>\n",
       "      <td>399</td>\n",
       "      <td>02/23/2023</td>\n",
       "      <td>05/03/2023</td>\n",
       "    </tr>\n",
       "    <tr>\n",
       "      <th>3</th>\n",
       "      <td>500</td>\n",
       "      <td>07/15/2023</td>\n",
       "      <td>05/09/2025</td>\n",
       "    </tr>\n",
       "    <tr>\n",
       "      <th>4</th>\n",
       "      <td>553</td>\n",
       "      <td>01/28/2023</td>\n",
       "      <td>11/03/2024</td>\n",
       "    </tr>\n",
       "  </tbody>\n",
       "</table>\n",
       "</div>"
      ],
      "text/plain": [
       "    ID  PrEP_Start    PrEP_End\n",
       "1  351  10/13/2023  12/18/2024\n",
       "2  399  02/23/2023  05/03/2023\n",
       "3  500  07/15/2023  05/09/2025\n",
       "4  553  01/28/2023  11/03/2024"
      ]
     },
     "execution_count": 85,
     "metadata": {},
     "output_type": "execute_result"
    }
   ],
   "source": [
    "data.iloc[1:5,:]"
   ]
  },
  {
   "cell_type": "code",
   "execution_count": 87,
   "metadata": {},
   "outputs": [
    {
     "name": "stdout",
     "output_type": "stream",
     "text": [
      "<class 'str'>\n",
      "<class 'str'>\n"
     ]
    }
   ],
   "source": [
    "#the data type of the column is text string\n",
    "print(type(data['PrEP_Start'][1]))\n",
    "print(type(data['PrEP_Start'][2]))"
   ]
  },
  {
   "cell_type": "code",
   "execution_count": 88,
   "metadata": {},
   "outputs": [],
   "source": [
    "#convert the column's data type to date time \n",
    "data['PrEP_Start']= pd.to_datetime(data['PrEP_Start'])\n",
    "data['PrEP_End']= pd.to_datetime(data['PrEP_End'])"
   ]
  },
  {
   "cell_type": "code",
   "execution_count": 89,
   "metadata": {},
   "outputs": [
    {
     "name": "stdout",
     "output_type": "stream",
     "text": [
      "<class 'pandas._libs.tslibs.timestamps.Timestamp'>\n",
      "<class 'pandas._libs.tslibs.timestamps.Timestamp'>\n"
     ]
    }
   ],
   "source": [
    "#the data type of the column is now changed to time stamp\n",
    "print(type(data['PrEP_Start'][1]))\n",
    "print(type(data['PrEP_End'][1]))"
   ]
  },
  {
   "cell_type": "code",
   "execution_count": 90,
   "metadata": {},
   "outputs": [],
   "source": [
    "#create PrEP initiation date variable\n",
    "startdate=data.groupby(\"ID\").agg('min').drop(columns=['PrEP_End'])\n",
    "startdate=startdate.rename(columns={'PrEP_Start':'Initiation'})\n",
    "data2=data.merge(startdate, on=\"ID\",how='left')\n",
    "#rename ID variable\n",
    "fdata=data2.rename(columns={'ID':'PID'})"
   ]
  },
  {
   "cell_type": "code",
   "execution_count": 91,
   "metadata": {},
   "outputs": [],
   "source": [
    "#de-identify the date\n",
    "a=fdata[\"PrEP_Start\"] - fdata[\"Initiation\"] \n",
    "fdata['PrEP_start_days']=a.dt.days\n",
    "a=fdata[\"PrEP_End\"] - fdata[\"Initiation\"] \n",
    "fdata['PrEP_end_days']=a.dt.days\n",
    "fdata=fdata[['PID','PrEP_start_days','PrEP_end_days']]"
   ]
  },
  {
   "cell_type": "code",
   "execution_count": 92,
   "metadata": {},
   "outputs": [],
   "source": [
    "#Create binary daily intake/coverage matrix (medcover)\n",
    "id_pool=np.unique(fdata[\"PID\"])\n",
    "medcover=np.zeros((len(id_pool),365*2))\n",
    "for k in range(len(id_pool)):\n",
    "    Rx_start=np.array(fdata.loc[fdata[\"PID\"]==id_pool[k],\"PrEP_start_days\"])\n",
    "    Rx_end=np.array(fdata.loc[fdata[\"PID\"]==id_pool[k],\"PrEP_end_days\"])\n",
    "    \n",
    "    for j in range(len(Rx_start)):\n",
    "        medcover[k][Rx_start[j]:Rx_end[j]+1]=1"
   ]
  },
  {
   "cell_type": "code",
   "execution_count": 93,
   "metadata": {},
   "outputs": [],
   "source": [
    "#Create PMC matrix: % of the 14 days with medication intake/coverage\n",
    "start=np.array(range(0,103*7,7))\n",
    "end=start+14\n",
    "PMC=np.zeros((len(id_pool),103))\n",
    "for k in range(len(id_pool)):    \n",
    "    for i in range(len(start)):\n",
    "        PMC[k][i]=sum(medcover[k][start[i]:end[i]])/14\n",
    "#Create binary PrEP sero-protection matrix (0: PMC<0.57, 1: otherwise)  \n",
    "SeroProtect=np.multiply(PMC>=4/7,1)"
   ]
  },
  {
   "cell_type": "code",
   "execution_count": 94,
   "metadata": {},
   "outputs": [],
   "source": [
    "#Append subject ID column to the SeroProtect matrix\n",
    "SeroProtect_indexed=np.column_stack((id_pool,SeroProtect))"
   ]
  },
  {
   "cell_type": "code",
   "execution_count": 95,
   "metadata": {},
   "outputs": [],
   "source": [
    "#Change directory to the export folder\n",
    "os.chdir(\"C:/Users/yche465/Desktop/AIM 1/Codes/PrEP-Traj-Clustering/Export\")"
   ]
  },
  {
   "cell_type": "code",
   "execution_count": 96,
   "metadata": {},
   "outputs": [],
   "source": [
    "#Export PMC matrix\n",
    "f= open(\"PMC.txt\",\"w+\")\n",
    "for i in range(len(PMC)):\n",
    "    for j in range(103):\n",
    "        if j == 102:\n",
    "            f.write(\"%s\\n\" % (PMC[i][j]))\n",
    "        else:\n",
    "            f.write(\"%s,\" % (PMC[i][j]))\n",
    "f.close()"
   ]
  },
  {
   "cell_type": "code",
   "execution_count": 97,
   "metadata": {},
   "outputs": [],
   "source": [
    "#Export sero-protection matrix\n",
    "f= open(\"SeroProtect.txt\",\"w+\")\n",
    "for i in range(len(SeroProtect_indexed)):\n",
    "    for j in range(104):\n",
    "        if j == 103:\n",
    "            f.write(\"%s\\n\" % (SeroProtect_indexed[i][j]))\n",
    "        else:\n",
    "            f.write(\"%s,\" % (SeroProtect_indexed[i][j]))\n",
    "f.close()"
   ]
  },
  {
   "cell_type": "markdown",
   "metadata": {},
   "source": [
    "### Prepare data for describing the PrEP use trend\n",
    "\n",
    "Create a data matrix object with the following two fields: 1) the total duration spent in suboptimal sero-protection; 2) the number of the number of PrEP protection interval"
   ]
  },
  {
   "cell_type": "code",
   "execution_count": 4,
   "metadata": {},
   "outputs": [],
   "source": [
    "#Import PMC and SeroProtect matrices\n",
    "PMC = np.loadtxt('PMC.txt', usecols=range(103), delimiter=\",\")\n",
    "SeroProtect = np.loadtxt('SeroProtect.txt', usecols=range(103), delimiter=\",\")"
   ]
  },
  {
   "cell_type": "code",
   "execution_count": 100,
   "metadata": {},
   "outputs": [],
   "source": [
    "# Create the matrix of suboptimal sero-protection (i.e., PMC<0.57)\n",
    "SubProtect=PMC<4/7"
   ]
  },
  {
   "cell_type": "code",
   "execution_count": 101,
   "metadata": {},
   "outputs": [],
   "source": [
    "#Create the following time series arrays:\n",
    "## possible PrEP cessation start time (in week)\n",
    "## possible PrEP cessation end time (in week)\n",
    "## possible PrEP use interval start time (in week)\n",
    "## possible PrEP use iterval end time (in week)\n",
    "CESS_START=[]\n",
    "CESS_END=[]\n",
    "PrEP_START=[]\n",
    "PrEP_END=[]\n",
    "\n",
    "for k in range(len(SubProtect)):\n",
    "    cess_start=[]\n",
    "    prep_start=[0]\n",
    "    cess_end=[]\n",
    "    prep_end=[]\n",
    "    for i in range(1,103):\n",
    "        if SubProtect[k][i]==True and SubProtect[k][i-1]==False:\n",
    "            cess_start.append(i)\n",
    "            prep_end.append(i)\n",
    "            \n",
    "        elif SubProtect[k][i]==False and SubProtect[k][i-1]==True:\n",
    "            cess_end.append(i)\n",
    "            prep_start.append(i)\n",
    "            \n",
    "    CESS_START.append(cess_start)\n",
    "    PrEP_START.append(prep_start)\n",
    "    CESS_END.append(cess_end)\n",
    "    PrEP_END.append(prep_end)\n",
    "\n",
    "#set the Week 103 as the end point of any unclosed PrEP use interval \n",
    "for i in range(len(SubProtect)):\n",
    "    if len(PrEP_START[i])>len(PrEP_END[i]):\n",
    "        PrEP_END[i].append(103)\n",
    "\n",
    "for i in range(len(SubProtect)):   \n",
    "    #if more cessation start date than end date, then set the Week 103 as the end point of any unclosed \n",
    "    #cessation interval \n",
    "    if len(CESS_START[i])>len(CESS_END[i]):\n",
    "        CESS_END[i].append(103)\n",
    "    #else if more cessation end date than start date, then set the Week 0 as the start point of \n",
    "    #any unclosed cessation interval \n",
    "    elif len(CESS_START[i])<len(CESS_END[i]):\n",
    "        CESS_START[i].insert(0,0)\n",
    "    #else if equal number of cessation start and end dates & the first end date predate the first start date \n",
    "    # then add Week 0 as the first start date and Week 103 as the last end date\n",
    "    elif len(CESS_START[i])==len(CESS_END[i]) and len(CESS_START[i])>0 and CESS_START[i][0]>CESS_END[i][0]:\n",
    "        START_WEEK_TOT[i].insert(0,0)\n",
    "        END_WEEK_TOT[i].append(103)\n",
    "    #else if it is cessation all the way through the entire follow-up period (i.e., no initial start and end dates \n",
    "    #but sero-protect time series is >0) then add Week 0 and 103 as the start and end dates, respectively\n",
    "    elif len(CESS_START[i])==0 and len(CESS_START[i])==0 and sum(SeroProtect[i])>0:\n",
    "        CESS_START[i].insert(0,0)\n",
    "        CESS_END[i].append(103)\n"
   ]
  },
  {
   "cell_type": "code",
   "execution_count": 117,
   "metadata": {},
   "outputs": [],
   "source": [
    "#Create list object: the total duration spent in sub-optimal sero-protection \n",
    "Total_SubP_Dur=np.array([sum(SubProtect[i]) for i in range(len(SubProtect))])\n",
    "#Create list object: the number of the number of sero-protection interval\n",
    "Num_Protect_Int=np.array([len(PrEP_START[i]) for i in range(len(SubProtect))])\n"
   ]
  },
  {
   "cell_type": "code",
   "execution_count": 121,
   "metadata": {},
   "outputs": [
    {
     "name": "stdout",
     "output_type": "stream",
     "text": [
      "66.17166666666667\n",
      "1.5203333333333333\n"
     ]
    }
   ],
   "source": [
    "#Average duration spent in sub-optimal sero-protection\n",
    "print(np.mean(Total_SubP_Dur))\n",
    "#Average number of PrEP protection interval \n",
    "print(np.mean(Num_Protect_Int))"
   ]
  },
  {
   "cell_type": "code",
   "execution_count": 124,
   "metadata": {},
   "outputs": [],
   "source": [
    "#from sklearn import preprocessing as prep\n",
    "##Sample dataset\n",
    "#Descriptive=np.dstack((Total_SubP_Dur,Num_Protect_Int))[0]"
   ]
  },
  {
   "cell_type": "code",
   "execution_count": 126,
   "metadata": {},
   "outputs": [],
   "source": [
    "#import pickle\n",
    "#pickle_out=open(\"Descriptive\",\"wb\")\n",
    "#pickle.dump(Descriptive,pickle_out)\n",
    "#pickle_out.close()"
   ]
  }
 ],
 "metadata": {
  "kernelspec": {
   "display_name": "Python 3",
   "language": "python",
   "name": "python3"
  },
  "language_info": {
   "codemirror_mode": {
    "name": "ipython",
    "version": 3
   },
   "file_extension": ".py",
   "mimetype": "text/x-python",
   "name": "python",
   "nbconvert_exporter": "python",
   "pygments_lexer": "ipython3",
   "version": "3.8.3"
  }
 },
 "nbformat": 4,
 "nbformat_minor": 4
}
