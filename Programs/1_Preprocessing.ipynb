{
 "cells": [
  {
   "cell_type": "code",
   "execution_count": 16,
   "metadata": {},
   "outputs": [],
   "source": [
    "import numpy as np\n",
    "import sys, os, shutil\n",
    "import pandas as pd\n",
    "import collections as cl\n",
    "import itertools as it\n",
    "import timeit\n",
    "import pandas as pd\n",
    "import datetime as dt\n",
    "import matplotlib.pyplot as plt\n",
    "import matplotlib\n",
    "import seaborn as sns\n",
    "import copy as cp\n",
    "import pyprojroot as pr"
   ]
  },
  {
   "cell_type": "code",
   "execution_count": 17,
   "metadata": {},
   "outputs": [
    {
     "data": {
      "text/plain": [
       "'C:\\\\Users\\\\yche465\\\\Desktop\\\\AIM 1\\\\Codes\\\\PrEP-Traj-Clustering\\\\Data'"
      ]
     },
     "execution_count": 17,
     "metadata": {},
     "output_type": "execute_result"
    }
   ],
   "source": [
    "#Change directory\n",
    "os.chdir(pr.here(\"./Data\"))\n",
    "os.getcwd()"
   ]
  },
  {
   "cell_type": "markdown",
   "metadata": {},
   "source": [
    "### Convert raw data to proportion of moving coverage (PMC) time series"
   ]
  },
  {
   "cell_type": "code",
   "execution_count": 18,
   "metadata": {},
   "outputs": [],
   "source": [
    "#Import raw dataset\n",
    "data=pd.read_csv(\"syndata_13k.csv\").astype({'ID':'int'})\n"
   ]
  },
  {
   "cell_type": "code",
   "execution_count": 19,
   "metadata": {
    "scrolled": true
   },
   "outputs": [
    {
     "data": {
      "text/html": [
       "<div>\n",
       "<style scoped>\n",
       "    .dataframe tbody tr th:only-of-type {\n",
       "        vertical-align: middle;\n",
       "    }\n",
       "\n",
       "    .dataframe tbody tr th {\n",
       "        vertical-align: top;\n",
       "    }\n",
       "\n",
       "    .dataframe thead th {\n",
       "        text-align: right;\n",
       "    }\n",
       "</style>\n",
       "<table border=\"1\" class=\"dataframe\">\n",
       "  <thead>\n",
       "    <tr style=\"text-align: right;\">\n",
       "      <th></th>\n",
       "      <th>ID</th>\n",
       "      <th>PrEP_Start</th>\n",
       "      <th>PrEP_End</th>\n",
       "    </tr>\n",
       "  </thead>\n",
       "  <tbody>\n",
       "    <tr>\n",
       "      <th>1</th>\n",
       "      <td>20</td>\n",
       "      <td>10/25/2023</td>\n",
       "      <td>01/11/2024</td>\n",
       "    </tr>\n",
       "    <tr>\n",
       "      <th>2</th>\n",
       "      <td>20</td>\n",
       "      <td>05/17/2024</td>\n",
       "      <td>06/26/2024</td>\n",
       "    </tr>\n",
       "    <tr>\n",
       "      <th>3</th>\n",
       "      <td>93</td>\n",
       "      <td>03/25/2023</td>\n",
       "      <td>10/26/2023</td>\n",
       "    </tr>\n",
       "    <tr>\n",
       "      <th>4</th>\n",
       "      <td>102</td>\n",
       "      <td>12/22/2023</td>\n",
       "      <td>05/06/2024</td>\n",
       "    </tr>\n",
       "  </tbody>\n",
       "</table>\n",
       "</div>"
      ],
      "text/plain": [
       "    ID  PrEP_Start    PrEP_End\n",
       "1   20  10/25/2023  01/11/2024\n",
       "2   20  05/17/2024  06/26/2024\n",
       "3   93  03/25/2023  10/26/2023\n",
       "4  102  12/22/2023  05/06/2024"
      ]
     },
     "execution_count": 19,
     "metadata": {},
     "output_type": "execute_result"
    }
   ],
   "source": [
    "data.iloc[1:5,:]"
   ]
  },
  {
   "cell_type": "code",
   "execution_count": 20,
   "metadata": {},
   "outputs": [
    {
     "name": "stdout",
     "output_type": "stream",
     "text": [
      "<class 'str'>\n",
      "<class 'str'>\n"
     ]
    }
   ],
   "source": [
    "#the data type of the column is text string\n",
    "print(type(data['PrEP_Start'][1]))\n",
    "print(type(data['PrEP_Start'][2]))"
   ]
  },
  {
   "cell_type": "code",
   "execution_count": 21,
   "metadata": {},
   "outputs": [],
   "source": [
    "#convert the column's data type to date time \n",
    "data['PrEP_Start']= pd.to_datetime(data['PrEP_Start'])\n",
    "data['PrEP_End']= pd.to_datetime(data['PrEP_End'])"
   ]
  },
  {
   "cell_type": "code",
   "execution_count": 22,
   "metadata": {},
   "outputs": [
    {
     "name": "stdout",
     "output_type": "stream",
     "text": [
      "<class 'pandas._libs.tslibs.timestamps.Timestamp'>\n",
      "<class 'pandas._libs.tslibs.timestamps.Timestamp'>\n"
     ]
    }
   ],
   "source": [
    "#the data type of the column is now changed to time stamp\n",
    "print(type(data['PrEP_Start'][1]))\n",
    "print(type(data['PrEP_End'][1]))"
   ]
  },
  {
   "cell_type": "code",
   "execution_count": 23,
   "metadata": {},
   "outputs": [],
   "source": [
    "#create PrEP initiation date variable\n",
    "startdate=data.groupby(\"ID\").agg('min').drop(columns=['PrEP_End'])\n",
    "startdate=startdate.rename(columns={'PrEP_Start':'Initiation'})\n",
    "data2=data.merge(startdate, on=\"ID\",how='left')\n",
    "#rename ID variable\n",
    "fdata=data2.rename(columns={'ID':'PID'})"
   ]
  },
  {
   "cell_type": "code",
   "execution_count": 24,
   "metadata": {},
   "outputs": [],
   "source": [
    "#de-identify the date\n",
    "a=fdata[\"PrEP_Start\"] - fdata[\"Initiation\"] \n",
    "fdata['PrEP_start_days']=a.dt.days\n",
    "a=fdata[\"PrEP_End\"] - fdata[\"Initiation\"] \n",
    "fdata['PrEP_end_days']=a.dt.days\n",
    "fdata=fdata[['PID','PrEP_start_days','PrEP_end_days']]"
   ]
  },
  {
   "cell_type": "code",
   "execution_count": 25,
   "metadata": {},
   "outputs": [],
   "source": [
    "#Create binary daily intake/coverage matrix (medcover)\n",
    "id_pool=np.unique(fdata[\"PID\"])\n",
    "medcover=np.zeros((len(id_pool),365*2))\n",
    "for k in range(len(id_pool)):\n",
    "    Rx_start=np.array(fdata.loc[fdata[\"PID\"]==id_pool[k],\"PrEP_start_days\"])\n",
    "    Rx_end=np.array(fdata.loc[fdata[\"PID\"]==id_pool[k],\"PrEP_end_days\"])\n",
    "    \n",
    "    for j in range(len(Rx_start)):\n",
    "        medcover[k][Rx_start[j]:Rx_end[j]+1]=1"
   ]
  },
  {
   "cell_type": "code",
   "execution_count": 26,
   "metadata": {},
   "outputs": [],
   "source": [
    "#Create PMC matrix: % of the 14 days with medication intake/coverage\n",
    "start=np.array(range(0,103*7,7))\n",
    "end=start+14\n",
    "PMC=np.zeros((len(id_pool),103))\n",
    "for k in range(len(id_pool)):    \n",
    "    for i in range(len(start)):\n",
    "        PMC[k][i]=sum(medcover[k][start[i]:end[i]])/14\n",
    "#Create binary PrEP sero-protection matrix (0: PMC<0.57, 1: otherwise)  \n",
    "SeroProtect=np.multiply(PMC>=4/7,1)"
   ]
  },
  {
   "cell_type": "code",
   "execution_count": 27,
   "metadata": {},
   "outputs": [],
   "source": [
    "#Append subject ID column to the SeroProtect matrix\n",
    "SeroProtect_indexed=np.column_stack((id_pool,SeroProtect))"
   ]
  },
  {
   "cell_type": "code",
   "execution_count": 28,
   "metadata": {},
   "outputs": [],
   "source": [
    "#Export PMC matrix\n",
    "f= open(\"PMC_13k.txt\",\"w+\")\n",
    "for i in range(len(PMC)):\n",
    "    for j in range(103):\n",
    "        if j == 102:\n",
    "            f.write(\"%s\\n\" % (PMC[i][j]))\n",
    "        else:\n",
    "            f.write(\"%s,\" % (PMC[i][j]))\n",
    "f.close()"
   ]
  },
  {
   "cell_type": "code",
   "execution_count": 29,
   "metadata": {},
   "outputs": [],
   "source": [
    "#Export sero-protection matrix\n",
    "f= open(\"SeroProtect_13k.txt\",\"w+\")\n",
    "for i in range(len(SeroProtect_indexed)):\n",
    "    for j in range(104):\n",
    "        if j == 103:\n",
    "            f.write(\"%s\\n\" % (SeroProtect_indexed[i][j]))\n",
    "        else:\n",
    "            f.write(\"%s,\" % (SeroProtect_indexed[i][j]))\n",
    "f.close()"
   ]
  },
  {
   "cell_type": "code",
   "execution_count": null,
   "metadata": {},
   "outputs": [],
   "source": []
  }
 ],
 "metadata": {
  "kernelspec": {
   "display_name": "Python 3 (ipykernel)",
   "language": "python",
   "name": "python3"
  },
  "language_info": {
   "codemirror_mode": {
    "name": "ipython",
    "version": 3
   },
   "file_extension": ".py",
   "mimetype": "text/x-python",
   "name": "python",
   "nbconvert_exporter": "python",
   "pygments_lexer": "ipython3",
   "version": "3.9.13"
  }
 },
 "nbformat": 4,
 "nbformat_minor": 4
}
