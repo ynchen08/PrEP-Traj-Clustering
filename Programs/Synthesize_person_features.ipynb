{
 "cells": [
  {
   "cell_type": "code",
   "execution_count": 1,
   "metadata": {},
   "outputs": [],
   "source": [
    "import numpy as np\n",
    "import sys, os, shutil\n",
    "import pandas as pd\n",
    "import collections as cl\n",
    "import itertools as it\n",
    "import timeit\n",
    "import pandas as pd\n",
    "import datetime as dt\n",
    "import matplotlib.pyplot as plt\n",
    "import matplotlib\n",
    "import seaborn as sns\n",
    "import copy as cp\n",
    "import pyprojroot as pr\n",
    "import scipy.stats as scs\n",
    "from sklearn.model_selection import StratifiedShuffleSplit"
   ]
  },
  {
   "cell_type": "code",
   "execution_count": 2,
   "metadata": {},
   "outputs": [
    {
     "data": {
      "text/plain": [
       "'C:\\\\Users\\\\yche465\\\\Desktop\\\\AIM 1\\\\Codes\\\\PrEP-Traj-Clustering\\\\Data'"
      ]
     },
     "execution_count": 2,
     "metadata": {},
     "output_type": "execute_result"
    }
   ],
   "source": [
    "#Change directory\n",
    "os.chdir(pr.here(\"./Data\"))\n",
    "os.getcwd()"
   ]
  },
  {
   "cell_type": "code",
   "execution_count": 3,
   "metadata": {},
   "outputs": [],
   "source": [
    "#Import PMC and SeroProtect matrices\n",
    "PMC = np.loadtxt('PMC_13k.txt', usecols=range(103), delimiter=\",\")\n",
    "SeroProtect = np.loadtxt('SeroProtect_13k.txt', usecols=range(104), delimiter=\",\")"
   ]
  },
  {
   "cell_type": "markdown",
   "metadata": {},
   "source": [
    "### Prepare baseline covariates (ONLY for fake dataset)\n",
    "\n",
    "1) Age at PrEP initiation <br>\n",
    "2) Primary payer type <br>\n",
    "3) Average copay per month <br>\n",
    "4) Pharmacy type"
   ]
  },
  {
   "cell_type": "code",
   "execution_count": 4,
   "metadata": {},
   "outputs": [],
   "source": [
    "#create fake values for attributes\n",
    "m=35\n",
    "sd=10\n",
    "bound=[18,65]\n",
    "Age_at_init= np.around(scs.truncnorm .rvs(loc=m,scale=sd,a=(bound[0]-m)/sd,b=(bound[1]-m)/sd,size=len(SeroProtect)))\n",
    "Primary_payer=np.random.choice(3,len(SeroProtect),p=[0.8, 0.15,0.05])\n",
    "Average_copay=np.random.exponential(scale=20,size=len(SeroProtect))\n",
    "Pharmacy_type=np.random.binomial(1, 0.5,len(SeroProtect))"
   ]
  },
  {
   "cell_type": "code",
   "execution_count": 5,
   "metadata": {},
   "outputs": [],
   "source": [
    "PERSON_DATA=pd.DataFrame({\"ID\":SeroProtect[:,0].astype(int),\n",
    "                          \"Age_at_init\":Age_at_init,\n",
    "                         \"Primary_payer\":Primary_payer,\n",
    "                         \"Average_copay\":Average_copay,\n",
    "                         \"Pharmacy_type\":Pharmacy_type})"
   ]
  },
  {
   "cell_type": "code",
   "execution_count": 6,
   "metadata": {},
   "outputs": [
    {
     "data": {
      "text/html": [
       "<div>\n",
       "<style scoped>\n",
       "    .dataframe tbody tr th:only-of-type {\n",
       "        vertical-align: middle;\n",
       "    }\n",
       "\n",
       "    .dataframe tbody tr th {\n",
       "        vertical-align: top;\n",
       "    }\n",
       "\n",
       "    .dataframe thead th {\n",
       "        text-align: right;\n",
       "    }\n",
       "</style>\n",
       "<table border=\"1\" class=\"dataframe\">\n",
       "  <thead>\n",
       "    <tr style=\"text-align: right;\">\n",
       "      <th></th>\n",
       "      <th>ID</th>\n",
       "      <th>Age_at_init</th>\n",
       "      <th>Primary_payer</th>\n",
       "      <th>Average_copay</th>\n",
       "      <th>Pharmacy_type</th>\n",
       "    </tr>\n",
       "  </thead>\n",
       "  <tbody>\n",
       "    <tr>\n",
       "      <th>0</th>\n",
       "      <td>20</td>\n",
       "      <td>30.0</td>\n",
       "      <td>0</td>\n",
       "      <td>0.351828</td>\n",
       "      <td>0</td>\n",
       "    </tr>\n",
       "    <tr>\n",
       "      <th>1</th>\n",
       "      <td>93</td>\n",
       "      <td>45.0</td>\n",
       "      <td>1</td>\n",
       "      <td>6.017758</td>\n",
       "      <td>1</td>\n",
       "    </tr>\n",
       "    <tr>\n",
       "      <th>2</th>\n",
       "      <td>102</td>\n",
       "      <td>23.0</td>\n",
       "      <td>0</td>\n",
       "      <td>4.706100</td>\n",
       "      <td>0</td>\n",
       "    </tr>\n",
       "    <tr>\n",
       "      <th>3</th>\n",
       "      <td>128</td>\n",
       "      <td>38.0</td>\n",
       "      <td>0</td>\n",
       "      <td>8.652744</td>\n",
       "      <td>0</td>\n",
       "    </tr>\n",
       "    <tr>\n",
       "      <th>4</th>\n",
       "      <td>155</td>\n",
       "      <td>32.0</td>\n",
       "      <td>0</td>\n",
       "      <td>4.603387</td>\n",
       "      <td>0</td>\n",
       "    </tr>\n",
       "    <tr>\n",
       "      <th>...</th>\n",
       "      <td>...</td>\n",
       "      <td>...</td>\n",
       "      <td>...</td>\n",
       "      <td>...</td>\n",
       "      <td>...</td>\n",
       "    </tr>\n",
       "    <tr>\n",
       "      <th>12995</th>\n",
       "      <td>191919</td>\n",
       "      <td>40.0</td>\n",
       "      <td>0</td>\n",
       "      <td>10.450687</td>\n",
       "      <td>0</td>\n",
       "    </tr>\n",
       "    <tr>\n",
       "      <th>12996</th>\n",
       "      <td>191934</td>\n",
       "      <td>25.0</td>\n",
       "      <td>0</td>\n",
       "      <td>27.274763</td>\n",
       "      <td>1</td>\n",
       "    </tr>\n",
       "    <tr>\n",
       "      <th>12997</th>\n",
       "      <td>191941</td>\n",
       "      <td>40.0</td>\n",
       "      <td>0</td>\n",
       "      <td>2.147359</td>\n",
       "      <td>1</td>\n",
       "    </tr>\n",
       "    <tr>\n",
       "      <th>12998</th>\n",
       "      <td>191955</td>\n",
       "      <td>33.0</td>\n",
       "      <td>0</td>\n",
       "      <td>29.775469</td>\n",
       "      <td>0</td>\n",
       "    </tr>\n",
       "    <tr>\n",
       "      <th>12999</th>\n",
       "      <td>191995</td>\n",
       "      <td>44.0</td>\n",
       "      <td>0</td>\n",
       "      <td>1.090861</td>\n",
       "      <td>1</td>\n",
       "    </tr>\n",
       "  </tbody>\n",
       "</table>\n",
       "<p>13000 rows × 5 columns</p>\n",
       "</div>"
      ],
      "text/plain": [
       "           ID  Age_at_init  Primary_payer  Average_copay  Pharmacy_type\n",
       "0          20         30.0              0       0.351828              0\n",
       "1          93         45.0              1       6.017758              1\n",
       "2         102         23.0              0       4.706100              0\n",
       "3         128         38.0              0       8.652744              0\n",
       "4         155         32.0              0       4.603387              0\n",
       "...       ...          ...            ...            ...            ...\n",
       "12995  191919         40.0              0      10.450687              0\n",
       "12996  191934         25.0              0      27.274763              1\n",
       "12997  191941         40.0              0       2.147359              1\n",
       "12998  191955         33.0              0      29.775469              0\n",
       "12999  191995         44.0              0       1.090861              1\n",
       "\n",
       "[13000 rows x 5 columns]"
      ]
     },
     "execution_count": 6,
     "metadata": {},
     "output_type": "execute_result"
    }
   ],
   "source": [
    "PERSON_DATA"
   ]
  },
  {
   "cell_type": "code",
   "execution_count": 7,
   "metadata": {},
   "outputs": [],
   "source": [
    "PERSON_DATA.to_csv (\"PersonVars.csv\", index = False, header=True)"
   ]
  },
  {
   "cell_type": "code",
   "execution_count": 8,
   "metadata": {},
   "outputs": [],
   "source": [
    "#from sklearn import preprocessing as prep\n",
    "##Sample dataset\n",
    "#Descriptive=np.dstack((Total_SubP_Dur,Num_Protect_Int))[0]"
   ]
  },
  {
   "cell_type": "code",
   "execution_count": 285,
   "metadata": {},
   "outputs": [],
   "source": [
    "#import pickle\n",
    "#pickle_out=open(\"Descriptive\",\"wb\")\n",
    "#pickle.dump(Descriptive,pickle_out)\n",
    "#pickle_out.close()"
   ]
  }
 ],
 "metadata": {
  "kernelspec": {
   "display_name": "Python 3",
   "language": "python",
   "name": "python3"
  },
  "language_info": {
   "codemirror_mode": {
    "name": "ipython",
    "version": 3
   },
   "file_extension": ".py",
   "mimetype": "text/x-python",
   "name": "python",
   "nbconvert_exporter": "python",
   "pygments_lexer": "ipython3",
   "version": "3.8.3"
  }
 },
 "nbformat": 4,
 "nbformat_minor": 4
}
