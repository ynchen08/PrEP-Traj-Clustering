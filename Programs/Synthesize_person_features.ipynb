{
 "cells": [
  {
   "cell_type": "code",
   "execution_count": 219,
   "metadata": {},
   "outputs": [],
   "source": [
    "import numpy as np\n",
    "import sys, os, shutil\n",
    "import pandas as pd\n",
    "import collections as cl\n",
    "import itertools as it\n",
    "import timeit\n",
    "import pandas as pd\n",
    "import datetime as dt\n",
    "import matplotlib.pyplot as plt\n",
    "import matplotlib\n",
    "import seaborn as sns\n",
    "import copy as cp\n",
    "import pyprojroot as pr\n",
    "import scipy.stats as scs\n",
    "from sklearn.model_selection import StratifiedShuffleSplit"
   ]
  },
  {
   "cell_type": "code",
   "execution_count": 15,
   "metadata": {},
   "outputs": [
    {
     "data": {
      "text/plain": [
       "'C:\\\\Users\\\\yche465\\\\Desktop\\\\AIM 1\\\\Codes\\\\PrEP-Traj-Clustering\\\\Data'"
      ]
     },
     "execution_count": 15,
     "metadata": {},
     "output_type": "execute_result"
    }
   ],
   "source": [
    "#Change directory\n",
    "os.chdir(pr.here(\"./Data\"))\n",
    "os.getcwd()"
   ]
  },
  {
   "cell_type": "code",
   "execution_count": 280,
   "metadata": {},
   "outputs": [],
   "source": [
    "#Import PMC and SeroProtect matrices\n",
    "PMC = np.loadtxt('PMC_13k.txt', usecols=range(103), delimiter=\",\")\n",
    "SeroProtect = np.loadtxt('SeroProtect_13k.txt', usecols=range(104), delimiter=\",\")"
   ]
  },
  {
   "cell_type": "markdown",
   "metadata": {},
   "source": [
    "### Prepare baseline covariates (ONLY for fake dataset)\n",
    "\n",
    "1) Age at PrEP initiation <br>\n",
    "2) Primary payer type <br>\n",
    "3) Average copay per month <br>\n",
    "4) Pharmacy type"
   ]
  },
  {
   "cell_type": "code",
   "execution_count": 281,
   "metadata": {},
   "outputs": [],
   "source": [
    "#create fake values for attributes\n",
    "m=35\n",
    "sd=10\n",
    "bound=[18,65]\n",
    "Age_at_init= np.around(scs.truncnorm .rvs(loc=m,scale=sd,a=(bound[0]-m)/sd,b=(bound[1]-m)/sd,size=len(Total_SubP_Dur)))\n",
    "Primary_payer=np.random.choice(3,len(Total_SubP_Dur),p=[0.8, 0.15,0.05])\n",
    "Average_copay=np.random.exponential(scale=20,size=len(Total_SubP_Dur))\n",
    "Pharmacy_type=np.random.binomial(1, 0.5,len(Total_SubP_Dur))"
   ]
  },
  {
   "cell_type": "code",
   "execution_count": 282,
   "metadata": {},
   "outputs": [],
   "source": [
    "PERSON_DATA=pd.DataFrame({\"ID\":SeroProtect[:,0].astype(int),\n",
    "                          \"Age_at_init\":Age_at_init,\n",
    "                         \"Primary_payer\":Primary_payer,\n",
    "                         \"Average_copay\":Average_copay,\n",
    "                         \"Pharmacy_type\":Pharmacy_type})"
   ]
  },
  {
   "cell_type": "code",
   "execution_count": 283,
   "metadata": {},
   "outputs": [],
   "source": [
    "PERSON_DATA.to_csv (\"PersonVars.csv\", index = False, header=True)"
   ]
  },
  {
   "cell_type": "code",
   "execution_count": 284,
   "metadata": {},
   "outputs": [],
   "source": [
    "#from sklearn import preprocessing as prep\n",
    "##Sample dataset\n",
    "#Descriptive=np.dstack((Total_SubP_Dur,Num_Protect_Int))[0]"
   ]
  },
  {
   "cell_type": "code",
   "execution_count": 285,
   "metadata": {},
   "outputs": [],
   "source": [
    "#import pickle\n",
    "#pickle_out=open(\"Descriptive\",\"wb\")\n",
    "#pickle.dump(Descriptive,pickle_out)\n",
    "#pickle_out.close()"
   ]
  }
 ],
 "metadata": {
  "kernelspec": {
   "display_name": "Python 3",
   "language": "python",
   "name": "python3"
  },
  "language_info": {
   "codemirror_mode": {
    "name": "ipython",
    "version": 3
   },
   "file_extension": ".py",
   "mimetype": "text/x-python",
   "name": "python",
   "nbconvert_exporter": "python",
   "pygments_lexer": "ipython3",
   "version": "3.8.3"
  }
 },
 "nbformat": 4,
 "nbformat_minor": 4
}
